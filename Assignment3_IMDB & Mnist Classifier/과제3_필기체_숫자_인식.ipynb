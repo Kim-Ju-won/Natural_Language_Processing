{
 "cells": [
  {
   "cell_type": "markdown",
   "id": "79791f1c",
   "metadata": {},
   "source": [
    "# 과제3 - 사례1 : 필기체 숫자 인식\n",
    "\n",
    "- 정확도가 PPT에 있는 숫자와 다르게 나타나는 이유를 서술 : epoch은 전체 train데이터를 훈련하는 횟수를 의미한다. 따라서, epoch을 10으로 증가시킬경우, 전체 데이터에 대하여 훈련 정확도가 높아지게 된다. 따라서 loss는 0.0101로 줄어들고 accuracy는 0.9970(99%)로 증가하여 PPT에 있는 정확도보다 높은 값이 나오게 된다. \n",
    "* 또한 데이터를 여러번 돌리다 보면 매번 정확도가 조금씩 달라지는 것을 볼 수 있는데, 이는 훈련할 때마다 랜덤하게 계산을 진행하여 정확도가 조금씩 달라진다.\n",
    "\n",
    "- 이 자료의 MNIST 숫자 인식 프로그램을 수행하여 최종 결과를 29쪽의 결과와 유사하게 10번까지의 Epoch을 수행하여 얻은 출력값을 8번에서 확인하실 수 있습니다.\n"
   ]
  },
  {
   "cell_type": "markdown",
   "id": "f3df2096",
   "metadata": {},
   "source": [
    "### 1. 데이터 읽기"
   ]
  },
  {
   "cell_type": "code",
   "execution_count": 1,
   "id": "ffceb4d6",
   "metadata": {},
   "outputs": [],
   "source": [
    "# Loading the MNIST dataset\n",
    "from keras.datasets import mnist\n",
    "\n",
    "(train_images, train_labels), (test_images, test_labels) = mnist.load_data()"
   ]
  },
  {
   "cell_type": "markdown",
   "id": "81e36362",
   "metadata": {},
   "source": [
    "### 2. 훈련 데이터 확인"
   ]
  },
  {
   "cell_type": "code",
   "execution_count": 2,
   "id": "9181a9e3",
   "metadata": {},
   "outputs": [
    {
     "data": {
      "text/plain": [
       "(60000, 28, 28)"
      ]
     },
     "execution_count": 2,
     "metadata": {},
     "output_type": "execute_result"
    }
   ],
   "source": [
    "train_images.shape "
   ]
  },
  {
   "cell_type": "code",
   "execution_count": 3,
   "id": "28c5f1c8",
   "metadata": {},
   "outputs": [
    {
     "data": {
      "text/plain": [
       "60000"
      ]
     },
     "execution_count": 3,
     "metadata": {},
     "output_type": "execute_result"
    }
   ],
   "source": [
    "len(train_labels) "
   ]
  },
  {
   "cell_type": "code",
   "execution_count": 4,
   "id": "5f5682a3",
   "metadata": {},
   "outputs": [
    {
     "data": {
      "text/plain": [
       "array([5, 0, 4, ..., 5, 6, 8], dtype=uint8)"
      ]
     },
     "execution_count": 4,
     "metadata": {},
     "output_type": "execute_result"
    }
   ],
   "source": [
    "train_labels "
   ]
  },
  {
   "cell_type": "markdown",
   "id": "8d22eafe",
   "metadata": {},
   "source": [
    "### 3. 테스트 데이터 확인"
   ]
  },
  {
   "cell_type": "code",
   "execution_count": 5,
   "id": "e9b4d1c3",
   "metadata": {},
   "outputs": [
    {
     "data": {
      "text/plain": [
       "(10000, 28, 28)"
      ]
     },
     "execution_count": 5,
     "metadata": {},
     "output_type": "execute_result"
    }
   ],
   "source": [
    "test_images.shape "
   ]
  },
  {
   "cell_type": "code",
   "execution_count": 6,
   "id": "0cdb73e7",
   "metadata": {},
   "outputs": [
    {
     "data": {
      "text/plain": [
       "10000"
      ]
     },
     "execution_count": 6,
     "metadata": {},
     "output_type": "execute_result"
    }
   ],
   "source": [
    "len(test_labels) "
   ]
  },
  {
   "cell_type": "code",
   "execution_count": 7,
   "id": "a4db0de1",
   "metadata": {},
   "outputs": [
    {
     "data": {
      "text/plain": [
       "array([7, 2, 1, ..., 4, 5, 6], dtype=uint8)"
      ]
     },
     "execution_count": 7,
     "metadata": {},
     "output_type": "execute_result"
    }
   ],
   "source": [
    "test_labels "
   ]
  },
  {
   "cell_type": "markdown",
   "id": "0c78bc46",
   "metadata": {},
   "source": [
    "### 4. 데이터 영상 보기 "
   ]
  },
  {
   "cell_type": "code",
   "execution_count": 8,
   "id": "76176e36",
   "metadata": {},
   "outputs": [
    {
     "data": {
      "image/png": "[encoded data removed]",
      "text/plain": [
       "<Figure size 432x288 with 1 Axes>"
      ]
     },
     "metadata": {
      "needs_background": "light"
     },
     "output_type": "display_data"
    },
    {
     "name": "stdout",
     "output_type": "stream",
     "text": [
      "3\n"
     ]
    }
   ],
   "source": [
    "digit = train_images[49810]\n",
    "\n",
    "import matplotlib.pyplot as plt \n",
    "# matploblib이용해서 내용 출력\n",
    "plt.imshow(digit, cmap=plt.cm.binary) \n",
    "plt.show()\n",
    "print(train_labels[49810]) # 라벨 체크"
   ]
  },
  {
   "cell_type": "markdown",
   "id": "2372ba6c",
   "metadata": {},
   "source": [
    "### 5. Sequential Api로 신경망 구현"
   ]
  },
  {
   "cell_type": "code",
   "execution_count": 9,
   "id": "422981d7",
   "metadata": {},
   "outputs": [],
   "source": [
    "from keras import models\n",
    "from keras import layers\n",
    "\n",
    "# Network architecture\n",
    "network = models.Sequential()\n",
    "# hidden\n",
    "network.add(layers.Dense(512, activation='relu', input_shape=(28 * 28,))) # activation function으로 relu function 활용\n",
    "# output\n",
    "network.add(layers.Dense(10, activation='softmax')) # softmax"
   ]
  },
  {
   "cell_type": "markdown",
   "id": "bd8e822f",
   "metadata": {},
   "source": [
    "### 6. 영상변환\n",
    "\n",
    "- 영상은 28x28 크기의 정수(0-255) 밝기를 가지고 있는데, 신경망에서는 784x1 크기로 0-1 사이의 밝기 영상을 이용하므로 데이터 형태를 변환\n",
    "- 이전에는 0-255 사이의 회색, 흰색 검은색의 색상을 갖고 있었음"
   ]
  },
  {
   "cell_type": "code",
   "execution_count": 10,
   "id": "14dbf8ed",
   "metadata": {},
   "outputs": [],
   "source": [
    "# Preparing image data\n",
    "train_images = train_images.reshape((60000, 28 * 28)) \n",
    "train_images = train_images.astype('float32') / 255 \n",
    "\n",
    "test_images = test_images.reshape((10000, 28 * 28)) \n",
    "test_images = test_images.astype('float32') / 255"
   ]
  },
  {
   "cell_type": "markdown",
   "id": "884077a9",
   "metadata": {},
   "source": [
    "### 7. 영상레이블 변환\n",
    "\n",
    "- 영상 레이블을 카테고리 형으로 변환\n"
   ]
  },
  {
   "cell_type": "code",
   "execution_count": 11,
   "id": "4a3dc615",
   "metadata": {},
   "outputs": [],
   "source": [
    "# kera.util로 to_categoriacal을 불러오는 동아 에러가 생겨 tensorflow.keras.util에서 불러옴\n",
    "from tensorflow.keras.utils import to_categorical # one-hot vector로 바꿔줌\n",
    "\n",
    "train_labels = to_categorical(train_labels) \n",
    "test_labels = to_categorical(test_labels)\n"
   ]
  },
  {
   "cell_type": "markdown",
   "id": "57da34c3",
   "metadata": {},
   "source": [
    "### 8. 훈련 과정 \n",
    "\n",
    "- compile과 fit을 수행"
   ]
  },
  {
   "cell_type": "code",
   "execution_count": 12,
   "id": "cf21f9a8",
   "metadata": {},
   "outputs": [
    {
     "name": "stdout",
     "output_type": "stream",
     "text": [
      "Epoch 1/10\n",
      "469/469 [==============================] - 6s 11ms/step - loss: 0.2582 - accuracy: 0.9261\n",
      "Epoch 2/10\n",
      "469/469 [==============================] - 5s 11ms/step - loss: 0.1043 - accuracy: 0.9691\n",
      "Epoch 3/10\n",
      "469/469 [==============================] - 5s 11ms/step - loss: 0.0685 - accuracy: 0.9794\n",
      "Epoch 4/10\n",
      "469/469 [==============================] - 5s 10ms/step - loss: 0.0501 - accuracy: 0.9847\n",
      "Epoch 5/10\n",
      "469/469 [==============================] - 5s 11ms/step - loss: 0.0385 - accuracy: 0.9887\n",
      "Epoch 6/10\n",
      "469/469 [==============================] - 5s 10ms/step - loss: 0.0287 - accuracy: 0.9915\n",
      "Epoch 7/10\n",
      "469/469 [==============================] - 5s 10ms/step - loss: 0.0222 - accuracy: 0.9934\n",
      "Epoch 8/10\n",
      "469/469 [==============================] - 5s 11ms/step - loss: 0.0171 - accuracy: 0.9950\n",
      "Epoch 9/10\n",
      "469/469 [==============================] - 5s 11ms/step - loss: 0.0133 - accuracy: 0.9961\n",
      "Epoch 10/10\n",
      "469/469 [==============================] - 5s 11ms/step - loss: 0.0101 - accuracy: 0.9970\n"
     ]
    },
    {
     "data": {
      "text/plain": [
       "<keras.callbacks.History at 0x22395855d00>"
      ]
     },
     "execution_count": 12,
     "metadata": {},
     "output_type": "execute_result"
    }
   ],
   "source": [
    "# Preparing the labels\n",
    "network.compile(optimizer='rmsprop', \n",
    "                loss='categorical_crossentropy', \n",
    "                metrics=['accuracy'])\n",
    "\n",
    "# Fit the model to training data\n",
    "network.fit(train_images, train_labels, epochs=10, batch_size=128)"
   ]
  },
  {
   "cell_type": "markdown",
   "id": "9c0caade",
   "metadata": {},
   "source": [
    "### 9. 신경망 파라미터\n",
    "\n",
    "- 신경망을 정의한 다음 network.summary() 함수를 호출하면 신경망에서 설정된 파라미터(미지수) 개수를 볼 수 있음\n",
    "    - dense_2: 28x28x512+512 = 401,920\n",
    "    - dense_3: (512+1)x10 = 5,130"
   ]
  },
  {
   "cell_type": "code",
   "execution_count": 13,
   "id": "22f4fffc",
   "metadata": {},
   "outputs": [
    {
     "name": "stdout",
     "output_type": "stream",
     "text": [
      "Model: \"sequential\"\n",
      "_________________________________________________________________\n",
      "Layer (type)                 Output Shape              Param #   \n",
      "=================================================================\n",
      "dense (Dense)                (None, 512)               401920    \n",
      "_________________________________________________________________\n",
      "dense_1 (Dense)              (None, 10)                5130      \n",
      "=================================================================\n",
      "Total params: 407,050\n",
      "Trainable params: 407,050\n",
      "Non-trainable params: 0\n",
      "_________________________________________________________________\n"
     ]
    }
   ],
   "source": [
    "network.summary()"
   ]
  }
 ],
 "metadata": {
  "kernelspec": {
   "display_name": "Python 3 (ipykernel)",
   "language": "python",
   "name": "python3"
  },
  "language_info": {
   "codemirror_mode": {
    "name": "ipython",
    "version": 3
   },
   "file_extension": ".py",
   "mimetype": "text/x-python",
   "name": "python",
   "nbconvert_exporter": "python",
   "pygments_lexer": "ipython3",
   "version": "3.8.11"
  }
 },
 "nbformat": 4,
 "nbformat_minor": 5
}
