{
 "cells": [
  {
   "cell_type": "markdown",
   "metadata": {
    "id": "5WknnrfgvN7a"
   },
   "source": [
    "# 과제#6. 영한 번역기 과제 \n",
    "\n",
    "- 코드 수정 내용 : \n",
    "1. Google Colab을 사용하기 위해 drive mount code를 추가하였습니다. 그리고 \"구어체(1).txt\"파일을 사용하기 위해 경로를 추가로 수정해주었습니다.\n",
    "2.  sentecnepiece 사용을 위해 sentecepiece라이브러리를 import해주었습니다.그리고 해당 라이브러리를 이용해서 32000개의 단어를 추출해주었고, 다시 그 단어를 \"구어체(2).txt\" 파일에 저장해두었습니다. 아래 구어체(2).txt파일 만들기에서 코드를 확인하실 수 있습니다."
   ]
  },
  {
   "cell_type": "code",
   "execution_count": 1,
   "metadata": {
    "colab": {
     "base_uri": "https://localhost:8080/"
    },
    "id": "VlXH8ZIiwSip",
    "outputId": "84390c95-d02e-43fd-99bb-f0496387f791"
   },
   "outputs": [
    {
     "name": "stdout",
     "output_type": "stream",
     "text": [
      "Mounted at /content/drive/\n"
     ]
    }
   ],
   "source": [
    "# mout\n",
    "from google.colab import drive\n",
    "drive.mount('/content/drive/')"
   ]
  },
  {
   "cell_type": "code",
   "execution_count": 2,
   "metadata": {
    "colab": {
     "base_uri": "https://localhost:8080/"
    },
    "id": "wSqEh5EaDSLp",
    "outputId": "51fd97e1-a0db-4e11-dd0e-a7c4eb3cb51f"
   },
   "outputs": [
    {
     "name": "stdout",
     "output_type": "stream",
     "text": [
      "현재 디렉토리 위치: /content/drive/MyDrive/natural_language_processing_6\n"
     ]
    }
   ],
   "source": [
    "# txt 파일을 불러오기 위해 디렉토리 위치 이동\n",
    "import os\n",
    "from pathlib import Path\n",
    "\n",
    "# folder 변수에 구글드라이브에 프로젝트를 저장한 디렉토리를 입력하세요!\n",
    "project_dir = \"natural_language_processing_6\"\n",
    "\n",
    "base_path = Path(\"/content/drive/MyDrive/\")\n",
    "project_path = base_path / project_dir\n",
    "os.chdir(project_path)\n",
    "for x in list(project_path.glob(\"*\")):\n",
    "    if x.is_dir():\n",
    "        dir_name = str(x.relative_to(project_path))\n",
    "        os.rename(dir_name, dir_name.split(\" \", 1)[0])\n",
    "print(f\"현재 디렉토리 위치: {os.getcwd()}\")"
   ]
  },
  {
   "cell_type": "markdown",
   "metadata": {
    "id": "s_qNSzzyaCbD"
   },
   "source": [
    "##### Copyright 2019 The TensorFlow Authors."
   ]
  },
  {
   "cell_type": "code",
   "execution_count": 3,
   "metadata": {
    "cellView": "form",
    "id": "jmjh290raIky"
   },
   "outputs": [],
   "source": [
    "#@title Licensed under the Apache License, Version 2.0 (the \"License\");\n",
    "# you may not use this file except in compliance with the License.\n",
    "# You may obtain a copy of the License at\n",
    "#\n",
    "# https://www.apache.org/licenses/LICENSE-2.0\n",
    "#\n",
    "# Unless required by applicable law or agreed to in writing, software\n",
    "# distributed under the License is distributed on an \"AS IS\" BASIS,\n",
    "# WITHOUT WARRANTIES OR CONDITIONS OF ANY KIND, either express or implied.\n",
    "# See the License for the specific language governing permissions and\n",
    "# limitations under the License."
   ]
  },
  {
   "cell_type": "markdown",
   "metadata": {
    "id": "J0Qjg6vuaHNt"
   },
   "source": [
    "# Neural machine translation with attention"
   ]
  },
  {
   "cell_type": "markdown",
   "metadata": {
    "id": "AOpGoE2T-YXS"
   },
   "source": [
    "<table class=\"tfo-notebook-buttons\" align=\"left\">\n",
    "  <td>\n",
    "    <a target=\"_blank\" href=\"https://www.tensorflow.org/tutorials/text/nmt_with_attention\">\n",
    "    <img src=\"https://www.tensorflow.org/images/tf_logo_32px.png\" />\n",
    "    View on TensorFlow.org</a>\n",
    "  </td>\n",
    "  <td>\n",
    "    <a target=\"_blank\" href=\"https://colab.research.google.com/github/tensorflow/docs/blob/master/site/en/tutorials/text/nmt_with_attention.ipynb\">\n",
    "    <img src=\"https://www.tensorflow.org/images/colab_logo_32px.png\" />\n",
    "    Run in Google Colab</a>\n",
    "  </td>\n",
    "  <td>\n",
    "    <a target=\"_blank\" href=\"https://github.com/tensorflow/docs/blob/master/site/en/tutorials/text/nmt_with_attention.ipynb\">\n",
    "    <img src=\"https://www.tensorflow.org/images/GitHub-Mark-32px.png\" />\n",
    "    View source on GitHub</a>\n",
    "  </td>\n",
    "  <td>\n",
    "    <a href=\"https://storage.googleapis.com/tensorflow_docs/docs/site/en/tutorials/text/nmt_with_attention.ipynb\"><img src=\"https://www.tensorflow.org/images/download_logo_32px.png\" />Download notebook</a>\n",
    "  </td>\n",
    "</table>"
   ]
  },
  {
   "cell_type": "markdown",
   "metadata": {
    "id": "CiwtNgENbx2g"
   },
   "source": [
    "This notebook trains a sequence to sequence (seq2seq) model for Spanish to English translation. This is an advanced example that assumes some knowledge of sequence to sequence models.\n",
    "\n",
    "After training the model in this notebook, you will be able to input a Spanish sentence, such as *\"¿todavia estan en casa?\"*, and return the English translation: *\"are you still at home?\"*\n",
    "\n",
    "The translation quality is reasonable for a toy example, but the generated attention plot is perhaps more interesting. This shows which parts of the input sentence has the model's attention while translating:\n",
    "\n",
    "<img src=\"https://tensorflow.org/images/spanish-english.png\" alt=\"spanish-english attention plot\">\n",
    "\n",
    "Note: This example takes approximately 10 minutes to run on a single P100 GPU."
   ]
  },
  {
   "cell_type": "code",
   "execution_count": 4,
   "metadata": {
    "colab": {
     "base_uri": "https://localhost:8080/"
    },
    "id": "9hWpLK2cCs9Z",
    "outputId": "8beb4112-ded9-4d46-b822-a94e2c625416"
   },
   "outputs": [
    {
     "name": "stdout",
     "output_type": "stream",
     "text": [
      "Collecting sentencepiece\n",
      "  Downloading sentencepiece-0.1.96-cp37-cp37m-manylinux_2_17_x86_64.manylinux2014_x86_64.whl (1.2 MB)\n",
      "\u001b[?25l\r",
      "\u001b[K     |▎                               | 10 kB 31.0 MB/s eta 0:00:01\r",
      "\u001b[K     |▌                               | 20 kB 31.6 MB/s eta 0:00:01\r",
      "\u001b[K     |▉                               | 30 kB 13.0 MB/s eta 0:00:01\r",
      "\u001b[K     |█                               | 40 kB 9.9 MB/s eta 0:00:01\r",
      "\u001b[K     |█▍                              | 51 kB 5.2 MB/s eta 0:00:01\r",
      "\u001b[K     |█▋                              | 61 kB 5.6 MB/s eta 0:00:01\r",
      "\u001b[K     |██                              | 71 kB 6.1 MB/s eta 0:00:01\r",
      "\u001b[K     |██▏                             | 81 kB 6.8 MB/s eta 0:00:01\r",
      "\u001b[K     |██▍                             | 92 kB 7.0 MB/s eta 0:00:01\r",
      "\u001b[K     |██▊                             | 102 kB 5.4 MB/s eta 0:00:01\r",
      "\u001b[K     |███                             | 112 kB 5.4 MB/s eta 0:00:01\r",
      "\u001b[K     |███▎                            | 122 kB 5.4 MB/s eta 0:00:01\r",
      "\u001b[K     |███▌                            | 133 kB 5.4 MB/s eta 0:00:01\r",
      "\u001b[K     |███▉                            | 143 kB 5.4 MB/s eta 0:00:01\r",
      "\u001b[K     |████                            | 153 kB 5.4 MB/s eta 0:00:01\r",
      "\u001b[K     |████▎                           | 163 kB 5.4 MB/s eta 0:00:01\r",
      "\u001b[K     |████▋                           | 174 kB 5.4 MB/s eta 0:00:01\r",
      "\u001b[K     |████▉                           | 184 kB 5.4 MB/s eta 0:00:01\r",
      "\u001b[K     |█████▏                          | 194 kB 5.4 MB/s eta 0:00:01\r",
      "\u001b[K     |█████▍                          | 204 kB 5.4 MB/s eta 0:00:01\r",
      "\u001b[K     |█████▊                          | 215 kB 5.4 MB/s eta 0:00:01\r",
      "\u001b[K     |██████                          | 225 kB 5.4 MB/s eta 0:00:01\r",
      "\u001b[K     |██████▏                         | 235 kB 5.4 MB/s eta 0:00:01\r",
      "\u001b[K     |██████▌                         | 245 kB 5.4 MB/s eta 0:00:01\r",
      "\u001b[K     |██████▊                         | 256 kB 5.4 MB/s eta 0:00:01\r",
      "\u001b[K     |███████                         | 266 kB 5.4 MB/s eta 0:00:01\r",
      "\u001b[K     |███████▎                        | 276 kB 5.4 MB/s eta 0:00:01\r",
      "\u001b[K     |███████▋                        | 286 kB 5.4 MB/s eta 0:00:01\r",
      "\u001b[K     |███████▉                        | 296 kB 5.4 MB/s eta 0:00:01\r",
      "\u001b[K     |████████                        | 307 kB 5.4 MB/s eta 0:00:01\r",
      "\u001b[K     |████████▍                       | 317 kB 5.4 MB/s eta 0:00:01\r",
      "\u001b[K     |████████▋                       | 327 kB 5.4 MB/s eta 0:00:01\r",
      "\u001b[K     |█████████                       | 337 kB 5.4 MB/s eta 0:00:01\r",
      "\u001b[K     |█████████▏                      | 348 kB 5.4 MB/s eta 0:00:01\r",
      "\u001b[K     |█████████▌                      | 358 kB 5.4 MB/s eta 0:00:01\r",
      "\u001b[K     |█████████▊                      | 368 kB 5.4 MB/s eta 0:00:01\r",
      "\u001b[K     |██████████                      | 378 kB 5.4 MB/s eta 0:00:01\r",
      "\u001b[K     |██████████▎                     | 389 kB 5.4 MB/s eta 0:00:01\r",
      "\u001b[K     |██████████▌                     | 399 kB 5.4 MB/s eta 0:00:01\r",
      "\u001b[K     |██████████▉                     | 409 kB 5.4 MB/s eta 0:00:01\r",
      "\u001b[K     |███████████                     | 419 kB 5.4 MB/s eta 0:00:01\r",
      "\u001b[K     |███████████▍                    | 430 kB 5.4 MB/s eta 0:00:01\r",
      "\u001b[K     |███████████▋                    | 440 kB 5.4 MB/s eta 0:00:01\r",
      "\u001b[K     |███████████▉                    | 450 kB 5.4 MB/s eta 0:00:01\r",
      "\u001b[K     |████████████▏                   | 460 kB 5.4 MB/s eta 0:00:01\r",
      "\u001b[K     |████████████▍                   | 471 kB 5.4 MB/s eta 0:00:01\r",
      "\u001b[K     |████████████▊                   | 481 kB 5.4 MB/s eta 0:00:01\r",
      "\u001b[K     |█████████████                   | 491 kB 5.4 MB/s eta 0:00:01\r",
      "\u001b[K     |█████████████▎                  | 501 kB 5.4 MB/s eta 0:00:01\r",
      "\u001b[K     |█████████████▌                  | 512 kB 5.4 MB/s eta 0:00:01\r",
      "\u001b[K     |█████████████▊                  | 522 kB 5.4 MB/s eta 0:00:01\r",
      "\u001b[K     |██████████████                  | 532 kB 5.4 MB/s eta 0:00:01\r",
      "\u001b[K     |██████████████▎                 | 542 kB 5.4 MB/s eta 0:00:01\r",
      "\u001b[K     |██████████████▋                 | 552 kB 5.4 MB/s eta 0:00:01\r",
      "\u001b[K     |██████████████▉                 | 563 kB 5.4 MB/s eta 0:00:01\r",
      "\u001b[K     |███████████████▏                | 573 kB 5.4 MB/s eta 0:00:01\r",
      "\u001b[K     |███████████████▍                | 583 kB 5.4 MB/s eta 0:00:01\r",
      "\u001b[K     |███████████████▋                | 593 kB 5.4 MB/s eta 0:00:01\r",
      "\u001b[K     |████████████████                | 604 kB 5.4 MB/s eta 0:00:01\r",
      "\u001b[K     |████████████████▏               | 614 kB 5.4 MB/s eta 0:00:01\r",
      "\u001b[K     |████████████████▌               | 624 kB 5.4 MB/s eta 0:00:01\r",
      "\u001b[K     |████████████████▊               | 634 kB 5.4 MB/s eta 0:00:01\r",
      "\u001b[K     |█████████████████               | 645 kB 5.4 MB/s eta 0:00:01\r",
      "\u001b[K     |█████████████████▎              | 655 kB 5.4 MB/s eta 0:00:01\r",
      "\u001b[K     |█████████████████▌              | 665 kB 5.4 MB/s eta 0:00:01\r",
      "\u001b[K     |█████████████████▉              | 675 kB 5.4 MB/s eta 0:00:01\r",
      "\u001b[K     |██████████████████              | 686 kB 5.4 MB/s eta 0:00:01\r",
      "\u001b[K     |██████████████████▍             | 696 kB 5.4 MB/s eta 0:00:01\r",
      "\u001b[K     |██████████████████▋             | 706 kB 5.4 MB/s eta 0:00:01\r",
      "\u001b[K     |███████████████████             | 716 kB 5.4 MB/s eta 0:00:01\r",
      "\u001b[K     |███████████████████▏            | 727 kB 5.4 MB/s eta 0:00:01\r",
      "\u001b[K     |███████████████████▍            | 737 kB 5.4 MB/s eta 0:00:01\r",
      "\u001b[K     |███████████████████▊            | 747 kB 5.4 MB/s eta 0:00:01\r",
      "\u001b[K     |████████████████████            | 757 kB 5.4 MB/s eta 0:00:01\r",
      "\u001b[K     |████████████████████▎           | 768 kB 5.4 MB/s eta 0:00:01\r",
      "\u001b[K     |████████████████████▌           | 778 kB 5.4 MB/s eta 0:00:01\r",
      "\u001b[K     |████████████████████▉           | 788 kB 5.4 MB/s eta 0:00:01\r",
      "\u001b[K     |█████████████████████           | 798 kB 5.4 MB/s eta 0:00:01\r",
      "\u001b[K     |█████████████████████▎          | 808 kB 5.4 MB/s eta 0:00:01\r",
      "\u001b[K     |█████████████████████▋          | 819 kB 5.4 MB/s eta 0:00:01\r",
      "\u001b[K     |█████████████████████▉          | 829 kB 5.4 MB/s eta 0:00:01\r",
      "\u001b[K     |██████████████████████▏         | 839 kB 5.4 MB/s eta 0:00:01\r",
      "\u001b[K     |██████████████████████▍         | 849 kB 5.4 MB/s eta 0:00:01\r",
      "\u001b[K     |██████████████████████▊         | 860 kB 5.4 MB/s eta 0:00:01\r",
      "\u001b[K     |███████████████████████         | 870 kB 5.4 MB/s eta 0:00:01\r",
      "\u001b[K     |███████████████████████▏        | 880 kB 5.4 MB/s eta 0:00:01\r",
      "\u001b[K     |███████████████████████▌        | 890 kB 5.4 MB/s eta 0:00:01\r",
      "\u001b[K     |███████████████████████▊        | 901 kB 5.4 MB/s eta 0:00:01\r",
      "\u001b[K     |████████████████████████        | 911 kB 5.4 MB/s eta 0:00:01\r",
      "\u001b[K     |████████████████████████▎       | 921 kB 5.4 MB/s eta 0:00:01\r",
      "\u001b[K     |████████████████████████▋       | 931 kB 5.4 MB/s eta 0:00:01\r",
      "\u001b[K     |████████████████████████▉       | 942 kB 5.4 MB/s eta 0:00:01\r",
      "\u001b[K     |█████████████████████████       | 952 kB 5.4 MB/s eta 0:00:01\r",
      "\u001b[K     |█████████████████████████▍      | 962 kB 5.4 MB/s eta 0:00:01\r",
      "\u001b[K     |█████████████████████████▋      | 972 kB 5.4 MB/s eta 0:00:01\r",
      "\u001b[K     |██████████████████████████      | 983 kB 5.4 MB/s eta 0:00:01\r",
      "\u001b[K     |██████████████████████████▏     | 993 kB 5.4 MB/s eta 0:00:01\r",
      "\u001b[K     |██████████████████████████▌     | 1.0 MB 5.4 MB/s eta 0:00:01\r",
      "\u001b[K     |██████████████████████████▊     | 1.0 MB 5.4 MB/s eta 0:00:01\r",
      "\u001b[K     |███████████████████████████     | 1.0 MB 5.4 MB/s eta 0:00:01\r",
      "\u001b[K     |███████████████████████████▎    | 1.0 MB 5.4 MB/s eta 0:00:01\r",
      "\u001b[K     |███████████████████████████▌    | 1.0 MB 5.4 MB/s eta 0:00:01\r",
      "\u001b[K     |███████████████████████████▉    | 1.1 MB 5.4 MB/s eta 0:00:01\r",
      "\u001b[K     |████████████████████████████    | 1.1 MB 5.4 MB/s eta 0:00:01\r",
      "\u001b[K     |████████████████████████████▍   | 1.1 MB 5.4 MB/s eta 0:00:01\r",
      "\u001b[K     |████████████████████████████▋   | 1.1 MB 5.4 MB/s eta 0:00:01\r",
      "\u001b[K     |████████████████████████████▉   | 1.1 MB 5.4 MB/s eta 0:00:01\r",
      "\u001b[K     |█████████████████████████████▏  | 1.1 MB 5.4 MB/s eta 0:00:01\r",
      "\u001b[K     |█████████████████████████████▍  | 1.1 MB 5.4 MB/s eta 0:00:01\r",
      "\u001b[K     |█████████████████████████████▊  | 1.1 MB 5.4 MB/s eta 0:00:01\r",
      "\u001b[K     |██████████████████████████████  | 1.1 MB 5.4 MB/s eta 0:00:01\r",
      "\u001b[K     |██████████████████████████████▎ | 1.1 MB 5.4 MB/s eta 0:00:01\r",
      "\u001b[K     |██████████████████████████████▌ | 1.2 MB 5.4 MB/s eta 0:00:01\r",
      "\u001b[K     |██████████████████████████████▊ | 1.2 MB 5.4 MB/s eta 0:00:01\r",
      "\u001b[K     |███████████████████████████████ | 1.2 MB 5.4 MB/s eta 0:00:01\r",
      "\u001b[K     |███████████████████████████████▎| 1.2 MB 5.4 MB/s eta 0:00:01\r",
      "\u001b[K     |███████████████████████████████▋| 1.2 MB 5.4 MB/s eta 0:00:01\r",
      "\u001b[K     |███████████████████████████████▉| 1.2 MB 5.4 MB/s eta 0:00:01\r",
      "\u001b[K     |████████████████████████████████| 1.2 MB 5.4 MB/s \n",
      "\u001b[?25hInstalling collected packages: sentencepiece\n",
      "Successfully installed sentencepiece-0.1.96\n"
     ]
    }
   ],
   "source": [
    "# sentencepiece모델 설치\n",
    "!pip install sentencepiece"
   ]
  },
  {
   "cell_type": "code",
   "execution_count": 5,
   "metadata": {
    "id": "tnxXKDjq3jEL"
   },
   "outputs": [],
   "source": [
    "import tensorflow as tf\n",
    "import sentencepiece as spm # sentecne piece 함수 사용을 위해 단어 추가 \n",
    "\n",
    "import matplotlib.pyplot as plt\n",
    "import matplotlib.ticker as ticker\n",
    "from sklearn.model_selection import train_test_split\n",
    "\n",
    "import unicodedata\n",
    "import re\n",
    "import numpy as np\n",
    "import os\n",
    "import io\n",
    "import time"
   ]
  },
  {
   "cell_type": "markdown",
   "metadata": {
    "id": "wfodePkj3jEa"
   },
   "source": [
    "## Download and prepare the dataset\n",
    "\n",
    "We'll use a language dataset provided by http://www.manythings.org/anki/. This dataset contains language translation pairs in the format:\n",
    "\n",
    "```\n",
    "May I borrow this book?\t¿Puedo tomar prestado este libro?\n",
    "```\n",
    "\n",
    "There are a variety of languages available, but we'll use the English-Spanish dataset. For convenience, we've hosted a copy of this dataset on Google Cloud, but you can also download your own copy. After downloading the dataset, here are the steps we'll take to prepare the data:\n",
    "\n",
    "1. Add a *start* and *end* token to each sentence.\n",
    "2. Clean the sentences by removing special characters.\n",
    "3. Create a word index and reverse word index (dictionaries mapping from word → id and id → word).\n",
    "4. Pad each sentence to a maximum length."
   ]
  },
  {
   "cell_type": "code",
   "execution_count": 6,
   "metadata": {
    "id": "kRVATYOgJs1b"
   },
   "outputs": [],
   "source": [
    "# change path to bring file 구어체(1).txt\n",
    "path_to_file = \"/content/drive/MyDrive/natural_language_processing_6/구어체(1).txt\"\n"
   ]
  },
  {
   "cell_type": "markdown",
   "metadata": {
    "id": "DsyI14Z7Rjl9"
   },
   "source": [
    "## sentencepiece를 이용해서 구어체(2).txt파일 만들어주기 "
   ]
  },
  {
   "cell_type": "code",
   "execution_count": 7,
   "metadata": {
    "id": "5ZEeenuV7Tvz"
   },
   "outputs": [],
   "source": [
    "# sentencepiece에서 32000개의 데이터를 추출하여 kor이라는 vocab모델을 만듦\n",
    "\n",
    "spm.SentencePieceTrainer.Train('--input=구어체(1).txt --model_prefix=kor --vocab_size=32000 --model_type=bpe --max_sentence_length=9999')\n"
   ]
  },
  {
   "cell_type": "code",
   "execution_count": 8,
   "metadata": {
    "id": "vg7RVNTwHWMO"
   },
   "outputs": [],
   "source": [
    "# 복원을 위해 구어체(1).txt파일을 불러옴\n",
    "import pandas as pd\n",
    "\n",
    "word = pd.read_table('구어체(1).txt', names =['kor', 'eng'])"
   ]
  },
  {
   "cell_type": "code",
   "execution_count": 9,
   "metadata": {
    "colab": {
     "base_uri": "https://localhost:8080/"
    },
    "id": "kTBiZMRXF6Xu",
    "outputId": "f6df47c1-5e1c-4893-bc53-26bac04af6e1"
   },
   "outputs": [
    {
     "name": "stdout",
     "output_type": "stream",
     "text": [
      "1번째 기존 한국어 문장: 'Bible Coloring'은 성경의 아름다운 이야기를 체험 할 수 있는 컬러링 앱입니다.\n",
      "1번째 sentencepiece로 추출해준 한국어 문장:  ▁' B ible ▁Col oring ' 은 ▁성경 의 ▁아름다운 ▁이야기를 ▁체험 ▁할 ▁수 ▁있는 ▁컬러 링 ▁앱입니다 .\n",
      "1번째 기존 영어 문장: Bible Coloring' is a coloring application that allows you to experience beautiful stories in the Bible.\n",
      "1번째 sentencepiece로 추출해준 한국어 문장:  ▁Bible ▁Col oring ' ▁is ▁a ▁coloring ▁application ▁that ▁allows ▁you ▁to ▁experience ▁beautiful ▁stories ▁in ▁the ▁Bible .\n",
      "\n",
      "2번째 기존 한국어 문장: 씨티은행에서 일하세요?\n",
      "2번째 sentencepiece로 추출해준 한국어 문장:  ▁씨 티 은행 에서 ▁일 하세요 ?\n",
      "2번째 기존 영어 문장: Do you work at a City bank?\n",
      "2번째 sentencepiece로 추출해준 한국어 문장:  ▁Do ▁you ▁work ▁at ▁a ▁City ▁bank ?\n",
      "\n",
      "3번째 기존 한국어 문장: 푸리토의 베스트셀러는 해외에서 입소문만으로 4차 완판을 기록하였다.\n",
      "3번째 sentencepiece로 추출해준 한국어 문장:  ▁푸 리토 의 ▁베스트 셀 러는 ▁해외에서 ▁입 소 문 만으로 ▁4 차 ▁완 판을 ▁기록 하였 다 .\n",
      "3번째 기존 영어 문장: PURITO's bestseller, which recorded 4th rough -cuts by words of mouth from abroad.\n",
      "3번째 sentencepiece로 추출해준 한국어 문장:  ▁PU R IT O ' s ▁best se ller , ▁which ▁recorded ▁4 th ▁rough ▁- cut s ▁by ▁words ▁of ▁mouth ▁from ▁abroad .\n",
      "\n",
      "4번째 기존 한국어 문장: 11장에서는 예수님이 이번엔 나사로를 무덤에서 불러내어 죽은 자 가운데서 살리셨습니다.\n",
      "4번째 sentencepiece로 추출해준 한국어 문장:  ▁11 장 에서는 ▁예수님 이 ▁이번엔 ▁나 사 로를 ▁무덤 에서 ▁불러 내 어 ▁죽은 ▁자 ▁가운데 서 ▁살 리 셨습니다 .\n",
      "4번째 기존 영어 문장: In Chapter 11 Jesus called Lazarus from the tomb and raised him from the dead.\n",
      "4번째 sentencepiece로 추출해준 한국어 문장:  ▁In ▁Ch ap ter ▁11 ▁Jesus ▁called ▁L az ar us ▁from ▁the ▁tomb ▁and ▁raised ▁him ▁from ▁the ▁dead .\n",
      "\n",
      "5번째 기존 한국어 문장: 6.5, 7, 8 사이즈가 몇 개나 더 재입고 될지 제게 알려주시면 감사하겠습니다.\n",
      "5번째 sentencepiece로 추출해준 한국어 문장:  ▁6 .5 , ▁7, ▁8 ▁사이즈가 ▁몇 ▁개나 ▁더 ▁재 입고 ▁될지 ▁제게 ▁알려주시면 ▁감사하겠습니다 .\n",
      "5번째 기존 영어 문장: I would feel grateful to know how many stocks will be secured of size 6.5, 7, and 8.\n",
      "5번째 sentencepiece로 추출해준 한국어 문장:  ▁I ▁would ▁feel ▁grateful ▁to ▁know ▁how ▁many ▁stocks ▁will ▁be ▁sec ured ▁of ▁size ▁6 .5 , ▁7, ▁and ▁8.\n",
      "\n"
     ]
    }
   ],
   "source": [
    "# kor.model을 로드\n",
    "sp = spm.SentencePieceProcessor() \n",
    "vocab_file = \"kor.model\" \n",
    "sp.load(vocab_file)\n",
    "# sentencepiece로 복원할 문장 리스트 저장\n",
    "korean_lines= word['kor']\n",
    "english_lines = word['eng']\n",
    "\n",
    "# 문장 재생성(복원)\n",
    "kor_list = []\n",
    "eng_list = []\n",
    "for line in korean_lines:\n",
    "    new_kor = (sp.encode_as_pieces(line))\n",
    "    sentence = \"\"\n",
    "    for token in new_kor:\n",
    "      sentence+=(' '+token)\n",
    "    kor_list.append(sentence)\n",
    "    \n",
    "for line in english_lines:\n",
    "    new_kor = (sp.encode_as_pieces(line))\n",
    "    sentence = \"\"\n",
    "    for token in new_kor:\n",
    "      sentence+=(' '+token)\n",
    "    eng_list.append(sentence)\n",
    "\n",
    "# 문장이 재생성(복원)되었는지 확인 \n",
    "for i in range(0,5):\n",
    "  print(str(i+1)+\"번째 기존 한국어 문장:\", korean_lines[i])\n",
    "  print(str(i+1)+\"번째 sentencepiece로 추출해준 한국어 문장:\", kor_list[i])\n",
    "  print(str(i+1)+\"번째 기존 영어 문장:\", english_lines[i])\n",
    "\n",
    "  print(str(i+1)+\"번째 sentencepiece로 추출해준 한국어 문장:\", eng_list[i])\n",
    "  print()"
   ]
  },
  {
   "cell_type": "code",
   "execution_count": 10,
   "metadata": {
    "id": "48s9o8CiUNxB"
   },
   "outputs": [],
   "source": [
    "# 구어체(2).txt 파일로 저장\n",
    "f = open(\"구어체(2).txt\", \"w\")\n",
    "for i in range(len(kor_list)):\n",
    "    data = kor_list[i]+'\\t'+eng_list[i]+\"\\n\"\n",
    "    f.write(data)"
   ]
  },
  {
   "cell_type": "code",
   "execution_count": 11,
   "metadata": {
    "colab": {
     "base_uri": "https://localhost:8080/",
     "height": 206
    },
    "id": "k9e4pWbBWcmZ",
    "outputId": "737b464d-0606-4f13-f8a2-5d2c7f8b2f3c"
   },
   "outputs": [
    {
     "data": {
      "text/html": [
       "<div>\n",
       "<style scoped>\n",
       "    .dataframe tbody tr th:only-of-type {\n",
       "        vertical-align: middle;\n",
       "    }\n",
       "\n",
       "    .dataframe tbody tr th {\n",
       "        vertical-align: top;\n",
       "    }\n",
       "\n",
       "    .dataframe thead th {\n",
       "        text-align: right;\n",
       "    }\n",
       "</style>\n",
       "<table border=\"1\" class=\"dataframe\">\n",
       "  <thead>\n",
       "    <tr style=\"text-align: right;\">\n",
       "      <th></th>\n",
       "      <th>kor</th>\n",
       "      <th>eng</th>\n",
       "    </tr>\n",
       "  </thead>\n",
       "  <tbody>\n",
       "    <tr>\n",
       "      <th>0</th>\n",
       "      <td>▁' B ible ▁Col oring ' 은 ▁성경 의 ▁아름다운 ▁이야기를 ▁체...</td>\n",
       "      <td>▁Bible ▁Col oring ' ▁is ▁a ▁coloring ▁applica...</td>\n",
       "    </tr>\n",
       "    <tr>\n",
       "      <th>1</th>\n",
       "      <td>▁씨 티 은행 에서 ▁일 하세요 ?</td>\n",
       "      <td>▁Do ▁you ▁work ▁at ▁a ▁City ▁bank ?</td>\n",
       "    </tr>\n",
       "    <tr>\n",
       "      <th>2</th>\n",
       "      <td>▁푸 리토 의 ▁베스트 셀 러는 ▁해외에서 ▁입 소 문 만으로 ▁4 차 ▁완 판을...</td>\n",
       "      <td>▁PU R IT O ' s ▁best se ller , ▁which ▁record...</td>\n",
       "    </tr>\n",
       "    <tr>\n",
       "      <th>3</th>\n",
       "      <td>▁11 장 에서는 ▁예수님 이 ▁이번엔 ▁나 사 로를 ▁무덤 에서 ▁불러 내 어 ...</td>\n",
       "      <td>▁In ▁Ch ap ter ▁11 ▁Jesus ▁called ▁L az ar us...</td>\n",
       "    </tr>\n",
       "    <tr>\n",
       "      <th>4</th>\n",
       "      <td>▁6 .5 , ▁7, ▁8 ▁사이즈가 ▁몇 ▁개나 ▁더 ▁재 입고 ▁될지 ▁제게 ...</td>\n",
       "      <td>▁I ▁would ▁feel ▁grateful ▁to ▁know ▁how ▁man...</td>\n",
       "    </tr>\n",
       "  </tbody>\n",
       "</table>\n",
       "</div>"
      ],
      "text/plain": [
       "                                                 kor                                                eng\n",
       "0   ▁' B ible ▁Col oring ' 은 ▁성경 의 ▁아름다운 ▁이야기를 ▁체...   ▁Bible ▁Col oring ' ▁is ▁a ▁coloring ▁applica...\n",
       "1                                ▁씨 티 은행 에서 ▁일 하세요 ?                ▁Do ▁you ▁work ▁at ▁a ▁City ▁bank ?\n",
       "2   ▁푸 리토 의 ▁베스트 셀 러는 ▁해외에서 ▁입 소 문 만으로 ▁4 차 ▁완 판을...   ▁PU R IT O ' s ▁best se ller , ▁which ▁record...\n",
       "3   ▁11 장 에서는 ▁예수님 이 ▁이번엔 ▁나 사 로를 ▁무덤 에서 ▁불러 내 어 ...   ▁In ▁Ch ap ter ▁11 ▁Jesus ▁called ▁L az ar us...\n",
       "4   ▁6 .5 , ▁7, ▁8 ▁사이즈가 ▁몇 ▁개나 ▁더 ▁재 입고 ▁될지 ▁제게 ...   ▁I ▁would ▁feel ▁grateful ▁to ▁know ▁how ▁man..."
      ]
     },
     "execution_count": 11,
     "metadata": {},
     "output_type": "execute_result"
    }
   ],
   "source": [
    "# 구어체 파일 확인\n",
    "word2 = pd.read_table('구어체(2).txt', names =['kor', 'eng'])\n",
    "word2.head()"
   ]
  },
  {
   "cell_type": "code",
   "execution_count": 12,
   "metadata": {
    "id": "_hV5r_VIVN-k"
   },
   "outputs": [],
   "source": [
    "# change path to bring file 구어체(2).txt\n",
    "path_to_file = \"/content/drive/MyDrive/natural_language_processing_6/구어체(2).txt\""
   ]
  },
  {
   "cell_type": "markdown",
   "metadata": {
    "id": "CHKSttW4T4Ry"
   },
   "source": [
    "## Preprocessing"
   ]
  },
  {
   "cell_type": "code",
   "execution_count": 13,
   "metadata": {
    "id": "rd0jw-eC3jEh"
   },
   "outputs": [],
   "source": [
    "# Converts the unicode file to ascii\n",
    "def unicode_to_ascii(s):\n",
    "  return ''.join(c for c in unicodedata.normalize('NFD', s)\n",
    "      if unicodedata.category(c) != 'Mn')\n",
    "\n",
    "\n",
    "def preprocess_sentence(w):\n",
    "  #w = unicode_to_ascii(w.lower().strip())\n",
    "  w = w.lower().strip()\n",
    "  # creating a space between a word and the punctuation following it\n",
    "  # eg: \"he is a boy.\" => \"he is a boy .\"\n",
    "  # Reference:- https://stackoverflow.com/questions/3645931/python-padding-punctuation-with-white-spaces-keeping-punctuation\n",
    "  w = re.sub(r\"([?.!,¿])\", r\" \\1 \", w)\n",
    "  w = re.sub(r'[\" \"]+', \" \", w)\n",
    "\n",
    "  # replacing everything with space except (a-z, A-Z, \".\", \"?\", \"!\", \",\")\n",
    "  w = re.sub(r\"[^0-9a-zA-Z가-힣?.!,¿]+\", \" \", w)\n",
    "\n",
    "  w = w.strip()\n",
    "\n",
    "  # adding a start and an end token to the sentence\n",
    "  # so that the model know when to start and stop predicting.\n",
    "  w = '<start> ' + w + ' <end>'\n",
    "  return w"
   ]
  },
  {
   "cell_type": "code",
   "execution_count": 14,
   "metadata": {
    "colab": {
     "base_uri": "https://localhost:8080/"
    },
    "id": "opI2GzOt479E",
    "outputId": "53a28678-c5f4-4004-81b8-0b3a9526d945"
   },
   "outputs": [
    {
     "name": "stdout",
     "output_type": "stream",
     "text": [
      "<start> may i borrow this book ? <end>\n",
      "b'<start> \\xc2\\xbf puedo tomar prestado este libro ? <end>'\n"
     ]
    }
   ],
   "source": [
    "en_sentence = u\"May I borrow this book?\"\n",
    "sp_sentence = u\"¿Puedo tomar prestado este libro?\"\n",
    "print(preprocess_sentence(en_sentence))\n",
    "print(preprocess_sentence(sp_sentence).encode('utf-8'))"
   ]
  },
  {
   "cell_type": "code",
   "execution_count": 15,
   "metadata": {
    "id": "OHn4Dct23jEm"
   },
   "outputs": [],
   "source": [
    "# 1. Remove the accents\n",
    "# 2. Clean the sentences\n",
    "# 3. Return word pairs in the format: [ENGLISH, SPANISH]\n",
    "def create_dataset(path, num_examples):\n",
    "  lines = io.open(path, encoding='UTF-8').read().strip().split('\\n')\n",
    "\n",
    "  word_pairs = [[preprocess_sentence(w) for w in l.split('\\t')]  for l in lines[:num_examples]]\n",
    "\n",
    "  return zip(*word_pairs)"
   ]
  },
  {
   "cell_type": "code",
   "execution_count": 16,
   "metadata": {
    "colab": {
     "base_uri": "https://localhost:8080/"
    },
    "id": "cTbSbBz55QtF",
    "outputId": "98d3a586-a693-467c-e361-f80c5f2aaf85"
   },
   "outputs": [
    {
     "name": "stdout",
     "output_type": "stream",
     "text": [
      "<start> when you make an order , he cooks on the steel pan right away . <end>\n",
      "<start> 네가 가서 주문하면 즉 석 에서 철 판에 요리를 해줘 . <end>\n"
     ]
    }
   ],
   "source": [
    "#-*- coding: utf-8 -*-\n",
    "ko, en = create_dataset(path_to_file, None)\n",
    "print(en[80000])\n",
    "print(ko[80000])"
   ]
  },
  {
   "cell_type": "code",
   "execution_count": 17,
   "metadata": {
    "id": "bIOn8RCNDJXG"
   },
   "outputs": [],
   "source": [
    "def tokenize(lang):\n",
    "  lang_tokenizer = tf.keras.preprocessing.text.Tokenizer(\n",
    "      filters='')\n",
    "  lang_tokenizer.fit_on_texts(lang)\n",
    "\n",
    "  tensor = lang_tokenizer.texts_to_sequences(lang)\n",
    "\n",
    "  tensor = tf.keras.preprocessing.sequence.pad_sequences(tensor,\n",
    "                                                         padding='post')\n",
    "\n",
    "  return tensor, lang_tokenizer"
   ]
  },
  {
   "cell_type": "code",
   "execution_count": 18,
   "metadata": {
    "id": "eAY9k49G3jE_"
   },
   "outputs": [],
   "source": [
    "def load_dataset(path, num_examples=None):\n",
    "  # creating cleaned input, output pairs\n",
    "  targ_lang, inp_lang = create_dataset(path, num_examples)\n",
    "\n",
    "  input_tensor, inp_lang_tokenizer = tokenize(inp_lang)\n",
    "  target_tensor, targ_lang_tokenizer = tokenize(targ_lang)\n",
    "\n",
    "  return input_tensor, target_tensor, inp_lang_tokenizer, targ_lang_tokenizer"
   ]
  },
  {
   "cell_type": "markdown",
   "metadata": {
    "id": "GOi42V79Ydlr"
   },
   "source": [
    "### Limit the size of the dataset to experiment faster (optional)\n",
    "\n",
    "Training on the complete dataset of >100,000 sentences will take a long time. To train faster, we can limit the size of the dataset to 30,000 sentences (of course, translation quality degrades with less data):"
   ]
  },
  {
   "cell_type": "code",
   "execution_count": 19,
   "metadata": {
    "colab": {
     "base_uri": "https://localhost:8080/"
    },
    "id": "cnxC7q-j3jFD",
    "outputId": "71794f67-043c-4a3f-aa3e-ede020231767"
   },
   "outputs": [
    {
     "name": "stdout",
     "output_type": "stream",
     "text": [
      "100000 100000 100000\n"
     ]
    }
   ],
   "source": [
    "# Try experimenting with the size of that dataset\n",
    "num_examples = 100000\n",
    "input_tensor, target_tensor, inp_lang, targ_lang = load_dataset(path_to_file, num_examples)\n",
    "\n",
    "# Calculate max_length of the target tensors\n",
    "max_length_targ, max_length_inp = target_tensor.shape[1], input_tensor.shape[1]\n",
    "\n",
    "print(num_examples, len(input_tensor), len(target_tensor))"
   ]
  },
  {
   "cell_type": "code",
   "execution_count": 20,
   "metadata": {
    "colab": {
     "base_uri": "https://localhost:8080/"
    },
    "id": "4QILQkOs3jFG",
    "outputId": "6e95a898-8bdf-44e5-a431-156de7acaf21"
   },
   "outputs": [
    {
     "name": "stdout",
     "output_type": "stream",
     "text": [
      "80000 80000 20000 20000\n"
     ]
    }
   ],
   "source": [
    "# Creating training and validation sets using an 80-20 split\n",
    "input_tensor_train, input_tensor_val, target_tensor_train, target_tensor_val = train_test_split(input_tensor, target_tensor, test_size=0.2)\n",
    "\n",
    "# Show length\n",
    "print(len(input_tensor_train), len(target_tensor_train), len(input_tensor_val), len(target_tensor_val))"
   ]
  },
  {
   "cell_type": "code",
   "execution_count": 21,
   "metadata": {
    "id": "lJPmLZGMeD5q"
   },
   "outputs": [],
   "source": [
    "def convert(lang, tensor):\n",
    "  for t in tensor:\n",
    "    if t!=0:\n",
    "      print (\"%d ----> %s\" % (t, lang.index_word[t]))"
   ]
  },
  {
   "cell_type": "code",
   "execution_count": 22,
   "metadata": {
    "colab": {
     "base_uri": "https://localhost:8080/"
    },
    "id": "VXukARTDd7MT",
    "outputId": "bfe50084-e457-4185-b99b-645099e59a24"
   },
   "outputs": [
    {
     "name": "stdout",
     "output_type": "stream",
     "text": [
      "Input Language; index to word mapping\n",
      "1 ----> <start>\n",
      "7 ----> you\n",
      "156 ----> didn\n",
      "20 ----> t\n",
      "138 ----> even\n",
      "60 ----> know\n",
      "62 ----> how\n",
      "7 ----> you\n",
      "121 ----> re\n",
      "394 ----> making\n",
      "23 ----> your\n",
      "355 ----> parents\n",
      "1460 ----> upset\n",
      "3 ----> .\n",
      "2 ----> <end>\n",
      "\n",
      "Target Language; index to word mapping\n",
      "1 ----> <start>\n",
      "44 ----> 네가\n",
      "377 ----> 얼마나\n",
      "77 ----> 네\n",
      "3546 ----> 부모\n",
      "53 ----> 를\n",
      "5251 ----> 화나게\n",
      "769 ----> 하는지\n",
      "6260 ----> 모르고\n",
      "2792 ----> 있었\n",
      "40 ----> 지\n",
      "3 ----> .\n",
      "2 ----> <end>\n"
     ]
    }
   ],
   "source": [
    "print (\"Input Language; index to word mapping\")\n",
    "convert(inp_lang, input_tensor_train[0])\n",
    "print ()\n",
    "print (\"Target Language; index to word mapping\")\n",
    "convert(targ_lang, target_tensor_train[0])"
   ]
  },
  {
   "cell_type": "code",
   "execution_count": 23,
   "metadata": {
    "colab": {
     "base_uri": "https://localhost:8080/"
    },
    "id": "6wJ6UPiMu4w1",
    "outputId": "c176c745-bcd5-42e0-d737-2c88fcc5dd2f"
   },
   "outputs": [
    {
     "name": "stdout",
     "output_type": "stream",
     "text": [
      "1 ----> <start>\n",
      "32 ----> if\n",
      "7 ----> you\n",
      "2507 ----> delete\n",
      "8 ----> a\n",
      "330 ----> game\n",
      "9 ----> ,\n",
      "5 ----> the\n",
      "498 ----> data\n",
      "25 ----> will\n",
      "39 ----> not\n",
      "29 ----> be\n",
      "3834 ----> recovered\n",
      "3 ----> .\n",
      "2 ----> <end>\n",
      "1 ----> <start>\n",
      "811 ----> 게임\n",
      "2970 ----> 삭제\n",
      "94 ----> 시\n",
      "7314 ----> 데이터가\n",
      "12080 ----> 복구\n",
      "291 ----> 되지\n",
      "281 ----> 않습니다\n",
      "3 ----> .\n",
      "2 ----> <end>\n"
     ]
    }
   ],
   "source": [
    "convert(inp_lang, input_tensor_train[1000])\n",
    "\n",
    "convert(targ_lang, target_tensor_train[1000])"
   ]
  },
  {
   "cell_type": "markdown",
   "metadata": {
    "id": "rgCLkfv5uO3d"
   },
   "source": [
    "### Create a tf.data dataset"
   ]
  },
  {
   "cell_type": "code",
   "execution_count": 24,
   "metadata": {
    "colab": {
     "base_uri": "https://localhost:8080/"
    },
    "id": "TqHsArVZ3jFS",
    "outputId": "368ef8d9-1a59-47a4-8703-4bd4b4eab1b7"
   },
   "outputs": [
    {
     "name": "stdout",
     "output_type": "stream",
     "text": [
      "9808 19225\n"
     ]
    }
   ],
   "source": [
    "BUFFER_SIZE = len(input_tensor_train)\n",
    "BATCH_SIZE = 64\n",
    "steps_per_epoch = len(input_tensor_train)//BATCH_SIZE\n",
    "embedding_dim = 256\n",
    "units = 1024\n",
    "vocab_inp_size = len(inp_lang.word_index)+1\n",
    "vocab_tar_size = len(targ_lang.word_index)+1\n",
    "\n",
    "dataset = tf.data.Dataset.from_tensor_slices((input_tensor_train, target_tensor_train)).shuffle(BUFFER_SIZE)\n",
    "dataset = dataset.batch(BATCH_SIZE, drop_remainder=True)\n",
    "\n",
    "print(vocab_inp_size, vocab_tar_size)"
   ]
  },
  {
   "cell_type": "code",
   "execution_count": 25,
   "metadata": {
    "colab": {
     "base_uri": "https://localhost:8080/"
    },
    "id": "qc6-NK1GtWQt",
    "outputId": "9f321715-5d2e-40a0-e3fe-994b386636ab"
   },
   "outputs": [
    {
     "data": {
      "text/plain": [
       "(TensorShape([64, 59]), TensorShape([64, 48]))"
      ]
     },
     "execution_count": 25,
     "metadata": {},
     "output_type": "execute_result"
    }
   ],
   "source": [
    "example_input_batch, example_target_batch = next(iter(dataset))\n",
    "example_input_batch.shape, example_target_batch.shape"
   ]
  },
  {
   "cell_type": "markdown",
   "metadata": {
    "id": "TNfHIF71ulLu"
   },
   "source": [
    "## Write the encoder and decoder model\n",
    "\n",
    "Implement an encoder-decoder model with attention which you can read about in the TensorFlow [Neural Machine Translation (seq2seq) tutorial](https://github.com/tensorflow/nmt). This example uses a more recent set of APIs. This notebook implements the [attention equations](https://github.com/tensorflow/nmt#background-on-the-attention-mechanism) from the seq2seq tutorial. The following diagram shows that each input words is assigned a weight by the attention mechanism which is then used by the decoder to predict the next word in the sentence. The below picture and formulas are an example of attention mechanism from [Luong's paper](https://arxiv.org/abs/1508.04025v5). \n",
    "\n",
    "<img src=\"https://www.tensorflow.org/images/seq2seq/attention_mechanism.jpg\" width=\"500\" alt=\"attention mechanism\">\n",
    "\n",
    "The input is put through an encoder model which gives us the encoder output of shape *(batch_size, max_length, hidden_size)* and the encoder hidden state of shape *(batch_size, hidden_size)*.\n",
    "\n",
    "Here are the equations that are implemented:\n",
    "\n",
    "<img src=\"https://www.tensorflow.org/images/seq2seq/attention_equation_0.jpg\" alt=\"attention equation 0\" width=\"800\">\n",
    "<img src=\"https://www.tensorflow.org/images/seq2seq/attention_equation_1.jpg\" alt=\"attention equation 1\" width=\"800\">\n",
    "\n",
    "This tutorial uses [Bahdanau attention](https://arxiv.org/pdf/1409.0473.pdf) for the encoder. Let's decide on notation before writing the simplified form:\n",
    "\n",
    "* FC = Fully connected (dense) layer\n",
    "* EO = Encoder output\n",
    "* H = hidden state\n",
    "* X = input to the decoder\n",
    "\n",
    "And the pseudo-code:\n",
    "\n",
    "* `score = FC(tanh(FC(EO) + FC(H)))`\n",
    "* `attention weights = softmax(score, axis = 1)`. Softmax by default is applied on the last axis but here we want to apply it on the *1st axis*, since the shape of score is *(batch_size, max_length, hidden_size)*. `Max_length` is the length of our input. Since we are trying to assign a weight to each input, softmax should be applied on that axis.\n",
    "* `context vector = sum(attention weights * EO, axis = 1)`. Same reason as above for choosing axis as 1.\n",
    "* `embedding output` = The input to the decoder X is passed through an embedding layer.\n",
    "* `merged vector = concat(embedding output, context vector)`\n",
    "* This merged vector is then given to the GRU\n",
    "\n",
    "The shapes of all the vectors at each step have been specified in the comments in the code:"
   ]
  },
  {
   "cell_type": "code",
   "execution_count": 26,
   "metadata": {
    "id": "nZ2rI24i3jFg"
   },
   "outputs": [],
   "source": [
    "class Encoder(tf.keras.Model):\n",
    "  def __init__(self, vocab_size, embedding_dim, enc_units, batch_sz):\n",
    "    super(Encoder, self).__init__()\n",
    "    self.batch_sz = batch_sz\n",
    "    self.enc_units = enc_units\n",
    "    self.embedding = tf.keras.layers.Embedding(vocab_size, embedding_dim)\n",
    "    self.gru = tf.keras.layers.GRU(self.enc_units,\n",
    "                                   return_sequences=True,\n",
    "                                   return_state=True,\n",
    "                                   recurrent_initializer='glorot_uniform')\n",
    "\n",
    "  def call(self, x, hidden):\n",
    "    x = self.embedding(x)\n",
    "    output, state = self.gru(x, initial_state = hidden)\n",
    "    return output, state\n",
    "\n",
    "  def initialize_hidden_state(self):\n",
    "    return tf.zeros((self.batch_sz, self.enc_units))"
   ]
  },
  {
   "cell_type": "code",
   "execution_count": 27,
   "metadata": {
    "colab": {
     "base_uri": "https://localhost:8080/"
    },
    "id": "60gSVh05Jl6l",
    "outputId": "ec609e47-56dd-4b83-eef3-b2b1dd5955d3"
   },
   "outputs": [
    {
     "name": "stdout",
     "output_type": "stream",
     "text": [
      "Encoder output shape: (batch size, sequence length, units) (64, 59, 1024)\n",
      "Encoder Hidden state shape: (batch size, units) (64, 1024)\n",
      "Model: \"encoder\"\n",
      "_________________________________________________________________\n",
      " Layer (type)                Output Shape              Param #   \n",
      "=================================================================\n",
      " embedding (Embedding)       multiple                  2510848   \n",
      "                                                                 \n",
      " gru (GRU)                   multiple                  3938304   \n",
      "                                                                 \n",
      "=================================================================\n",
      "Total params: 6,449,152\n",
      "Trainable params: 6,449,152\n",
      "Non-trainable params: 0\n",
      "_________________________________________________________________\n"
     ]
    }
   ],
   "source": [
    "encoder = Encoder(vocab_inp_size, embedding_dim, units, BATCH_SIZE)\n",
    "\n",
    "# sample input\n",
    "sample_hidden = encoder.initialize_hidden_state()\n",
    "sample_output, sample_hidden = encoder(example_input_batch, sample_hidden)\n",
    "print ('Encoder output shape: (batch size, sequence length, units) {}'.format(sample_output.shape))\n",
    "print ('Encoder Hidden state shape: (batch size, units) {}'.format(sample_hidden.shape))\n",
    "\n",
    "encoder.summary()"
   ]
  },
  {
   "cell_type": "code",
   "execution_count": 28,
   "metadata": {
    "id": "umohpBN2OM94"
   },
   "outputs": [],
   "source": [
    "class BahdanauAttention(tf.keras.layers.Layer):\n",
    "  def __init__(self, units):\n",
    "    super(BahdanauAttention, self).__init__()\n",
    "    self.W1 = tf.keras.layers.Dense(units)\n",
    "    self.W2 = tf.keras.layers.Dense(units)\n",
    "    self.V = tf.keras.layers.Dense(1)\n",
    "\n",
    "  def call(self, query, values):\n",
    "    # query hidden state shape == (batch_size, hidden size)\n",
    "    # query_with_time_axis shape == (batch_size, 1, hidden size)\n",
    "    # values shape == (batch_size, max_len, hidden size)\n",
    "    # we are doing this to broadcast addition along the time axis to calculate the score\n",
    "    query_with_time_axis = tf.expand_dims(query, 1)\n",
    "\n",
    "    # score shape == (batch_size, max_length, 1)\n",
    "    # we get 1 at the last axis because we are applying score to self.V\n",
    "    # the shape of the tensor before applying self.V is (batch_size, max_length, units)\n",
    "    score = self.V(tf.nn.tanh(\n",
    "        self.W1(query_with_time_axis) + self.W2(values)))\n",
    "\n",
    "    # attention_weights shape == (batch_size, max_length, 1)\n",
    "    attention_weights = tf.nn.softmax(score, axis=1)\n",
    "\n",
    "    # context_vector shape after sum == (batch_size, hidden_size)\n",
    "    context_vector = attention_weights * values\n",
    "    context_vector = tf.reduce_sum(context_vector, axis=1)\n",
    "\n",
    "    return context_vector, attention_weights"
   ]
  },
  {
   "cell_type": "code",
   "execution_count": 29,
   "metadata": {
    "colab": {
     "base_uri": "https://localhost:8080/"
    },
    "id": "k534zTHiDjQU",
    "outputId": "654b11ba-b049-4dd2-b97c-944cbd16c736"
   },
   "outputs": [
    {
     "name": "stdout",
     "output_type": "stream",
     "text": [
      "Attention result shape: (batch size, units) (64, 1024)\n",
      "Attention weights shape: (batch_size, sequence_length, 1) (64, 59, 1)\n"
     ]
    }
   ],
   "source": [
    "attention_layer = BahdanauAttention(10)\n",
    "attention_result, attention_weights = attention_layer(sample_hidden, sample_output)\n",
    "\n",
    "print(\"Attention result shape: (batch size, units) {}\".format(attention_result.shape))\n",
    "print(\"Attention weights shape: (batch_size, sequence_length, 1) {}\".format(attention_weights.shape))"
   ]
  },
  {
   "cell_type": "code",
   "execution_count": 30,
   "metadata": {
    "id": "yJ_B3mhW3jFk"
   },
   "outputs": [],
   "source": [
    "class Decoder(tf.keras.Model):\n",
    "  def __init__(self, vocab_size, embedding_dim, dec_units, batch_sz):\n",
    "    super(Decoder, self).__init__()\n",
    "    self.batch_sz = batch_sz\n",
    "    self.dec_units = dec_units\n",
    "    self.embedding = tf.keras.layers.Embedding(vocab_size, embedding_dim)\n",
    "    self.gru = tf.keras.layers.GRU(self.dec_units,\n",
    "                                   return_sequences=True,\n",
    "                                   return_state=True,\n",
    "                                   recurrent_initializer='glorot_uniform')\n",
    "    self.fc = tf.keras.layers.Dense(vocab_size)\n",
    "\n",
    "    # used for attention\n",
    "    self.attention = BahdanauAttention(self.dec_units)\n",
    "\n",
    "  def call(self, x, hidden, enc_output):\n",
    "    # enc_output shape == (batch_size, max_length, hidden_size)\n",
    "    context_vector, attention_weights = self.attention(hidden, enc_output)\n",
    "\n",
    "    # x shape after passing through embedding == (batch_size, 1, embedding_dim)\n",
    "    x = self.embedding(x)\n",
    "\n",
    "    # x shape after concatenation == (batch_size, 1, embedding_dim + hidden_size)\n",
    "    x = tf.concat([tf.expand_dims(context_vector, 1), x], axis=-1)\n",
    "\n",
    "    # passing the concatenated vector to the GRU\n",
    "    output, state = self.gru(x)\n",
    "\n",
    "    # output shape == (batch_size * 1, hidden_size)\n",
    "    output = tf.reshape(output, (-1, output.shape[2]))\n",
    "\n",
    "    # output shape == (batch_size, vocab)\n",
    "    x = self.fc(output)\n",
    "\n",
    "    return x, state, attention_weights"
   ]
  },
  {
   "cell_type": "code",
   "execution_count": 31,
   "metadata": {
    "colab": {
     "base_uri": "https://localhost:8080/"
    },
    "id": "P5UY8wko3jFp",
    "outputId": "2c4394e0-b63f-44db-87ad-1fa430ea09f8"
   },
   "outputs": [
    {
     "name": "stdout",
     "output_type": "stream",
     "text": [
      "Decoder output shape: (batch_size, vocab size) (64, 19225)\n",
      "Model: \"decoder\"\n",
      "_________________________________________________________________\n",
      " Layer (type)                Output Shape              Param #   \n",
      "=================================================================\n",
      " embedding_1 (Embedding)     multiple                  4921600   \n",
      "                                                                 \n",
      " gru_1 (GRU)                 multiple                  7084032   \n",
      "                                                                 \n",
      " dense_3 (Dense)             multiple                  19705625  \n",
      "                                                                 \n",
      " bahdanau_attention_1 (Bahda  multiple                 2100225   \n",
      " nauAttention)                                                   \n",
      "                                                                 \n",
      "=================================================================\n",
      "Total params: 33,811,482\n",
      "Trainable params: 33,811,482\n",
      "Non-trainable params: 0\n",
      "_________________________________________________________________\n"
     ]
    }
   ],
   "source": [
    "decoder = Decoder(vocab_tar_size, embedding_dim, units, BATCH_SIZE)\n",
    "\n",
    "sample_decoder_output, _, _ = decoder(tf.random.uniform((BATCH_SIZE, 1)),\n",
    "                                      sample_hidden, sample_output)\n",
    "\n",
    "print ('Decoder output shape: (batch_size, vocab size) {}'.format(sample_decoder_output.shape))\n",
    "decoder.summary()"
   ]
  },
  {
   "cell_type": "markdown",
   "metadata": {
    "id": "_ch_71VbIRfK"
   },
   "source": [
    "## Define the optimizer and the loss function"
   ]
  },
  {
   "cell_type": "code",
   "execution_count": 32,
   "metadata": {
    "id": "WmTHr5iV3jFr"
   },
   "outputs": [],
   "source": [
    "optimizer = tf.keras.optimizers.Adam()\n",
    "loss_object = tf.keras.losses.SparseCategoricalCrossentropy(\n",
    "    from_logits=True, reduction='none')\n",
    "\n",
    "def loss_function(real, pred):\n",
    "  mask = tf.math.logical_not(tf.math.equal(real, 0))\n",
    "  loss_ = loss_object(real, pred)\n",
    "\n",
    "  mask = tf.cast(mask, dtype=loss_.dtype)\n",
    "  loss_ *= mask\n",
    "\n",
    "  return tf.reduce_mean(loss_)"
   ]
  },
  {
   "cell_type": "markdown",
   "metadata": {
    "id": "DMVWzzsfNl4e"
   },
   "source": [
    "## Checkpoints (Object-based saving)"
   ]
  },
  {
   "cell_type": "code",
   "execution_count": 33,
   "metadata": {
    "id": "Zj8bXQTgNwrF"
   },
   "outputs": [],
   "source": [
    "checkpoint_dir = './training_checkpoints'\n",
    "checkpoint_prefix = os.path.join(checkpoint_dir, \"ckpt\")\n",
    "checkpoint = tf.train.Checkpoint(optimizer=optimizer,\n",
    "                                 encoder=encoder,\n",
    "                                 decoder=decoder)"
   ]
  },
  {
   "cell_type": "markdown",
   "metadata": {
    "id": "hpObfY22IddU"
   },
   "source": [
    "## Training\n",
    "\n",
    "1. Pass the *input* through the *encoder* which return *encoder output* and the *encoder hidden state*.\n",
    "2. The encoder output, encoder hidden state and the decoder input (which is the *start token*) is passed to the decoder.\n",
    "3. The decoder returns the *predictions* and the *decoder hidden state*.\n",
    "4. The decoder hidden state is then passed back into the model and the predictions are used to calculate the loss.\n",
    "5. Use *teacher forcing* to decide the next input to the decoder.\n",
    "6. *Teacher forcing* is the technique where the *target word* is passed as the *next input* to the decoder.\n",
    "7. The final step is to calculate the gradients and apply it to the optimizer and backpropagate."
   ]
  },
  {
   "cell_type": "code",
   "execution_count": 34,
   "metadata": {
    "id": "sC9ArXSsVfqn"
   },
   "outputs": [],
   "source": [
    "@tf.function\n",
    "def train_step(inp, targ, enc_hidden):\n",
    "  loss = 0\n",
    "\n",
    "  with tf.GradientTape() as tape:\n",
    "    enc_output, enc_hidden = encoder(inp, enc_hidden)\n",
    "\n",
    "    dec_hidden = enc_hidden\n",
    "\n",
    "    dec_input = tf.expand_dims([targ_lang.word_index['<start>']] * BATCH_SIZE, 1)\n",
    "\n",
    "    # Teacher forcing - feeding the target as the next input\n",
    "    for t in range(1, targ.shape[1]):\n",
    "      # passing enc_output to the decoder\n",
    "      predictions, dec_hidden, _ = decoder(dec_input, dec_hidden, enc_output)\n",
    "\n",
    "      loss += loss_function(targ[:, t], predictions)\n",
    "\n",
    "      # using teacher forcing\n",
    "      dec_input = tf.expand_dims(targ[:, t], 1)\n",
    "\n",
    "  batch_loss = (loss / int(targ.shape[1]))\n",
    "\n",
    "  variables = encoder.trainable_variables + decoder.trainable_variables\n",
    "\n",
    "  gradients = tape.gradient(loss, variables)\n",
    "\n",
    "  optimizer.apply_gradients(zip(gradients, variables))\n",
    "\n",
    "  return batch_loss"
   ]
  },
  {
   "cell_type": "code",
   "execution_count": 35,
   "metadata": {
    "colab": {
     "base_uri": "https://localhost:8080/"
    },
    "id": "ddefjBMa3jF0",
    "outputId": "92d3ef8e-6ce7-42e8-b528-8b3e6e2e3ecd",
    "scrolled": false
   },
   "outputs": [
    {
     "name": "stdout",
     "output_type": "stream",
     "text": [
      "Epoch 1 Batch 0 Loss 2.4563\n",
      "Epoch 1 Batch 100 Loss 1.7138\n",
      "Epoch 1 Batch 200 Loss 1.6240\n",
      "Epoch 1 Batch 300 Loss 1.5987\n",
      "Epoch 1 Batch 400 Loss 1.4784\n",
      "Epoch 1 Batch 500 Loss 1.6224\n",
      "Epoch 1 Batch 600 Loss 1.4535\n",
      "Epoch 1 Batch 700 Loss 1.5912\n",
      "Epoch 1 Batch 800 Loss 1.5985\n",
      "Epoch 1 Batch 900 Loss 1.7075\n",
      "Epoch 1 Batch 1000 Loss 1.5046\n",
      "Epoch 1 Batch 1100 Loss 1.4778\n",
      "Epoch 1 Batch 1200 Loss 1.5504\n",
      "Epoch 1 Loss 1.5675\n",
      "Time taken for 1 epoch 4184.392882108688 sec\n",
      "\n",
      "Epoch 2 Batch 0 Loss 1.4908\n",
      "Epoch 2 Batch 100 Loss 1.3797\n",
      "Epoch 2 Batch 200 Loss 1.4656\n",
      "Epoch 2 Batch 300 Loss 1.2874\n",
      "Epoch 2 Batch 400 Loss 1.3237\n",
      "Epoch 2 Batch 500 Loss 1.3653\n",
      "Epoch 2 Batch 600 Loss 1.2564\n",
      "Epoch 2 Batch 700 Loss 1.1361\n",
      "Epoch 2 Batch 800 Loss 1.2596\n",
      "Epoch 2 Batch 900 Loss 1.2468\n",
      "Epoch 2 Batch 1000 Loss 1.2083\n",
      "Epoch 2 Batch 1100 Loss 1.1466\n",
      "Epoch 2 Batch 1200 Loss 1.1379\n",
      "Epoch 2 Loss 1.2477\n",
      "Time taken for 1 epoch 4122.5248067379 sec\n",
      "\n",
      "Epoch 3 Batch 0 Loss 0.9752\n",
      "Epoch 3 Batch 100 Loss 0.9559\n",
      "Epoch 3 Batch 200 Loss 1.0462\n",
      "Epoch 3 Batch 300 Loss 1.2266\n",
      "Epoch 3 Batch 400 Loss 1.1635\n",
      "Epoch 3 Batch 500 Loss 0.9941\n",
      "Epoch 3 Batch 600 Loss 0.9688\n",
      "Epoch 3 Batch 700 Loss 1.2160\n",
      "Epoch 3 Batch 800 Loss 0.9566\n",
      "Epoch 3 Batch 900 Loss 0.9879\n",
      "Epoch 3 Batch 1000 Loss 0.8909\n",
      "Epoch 3 Batch 1100 Loss 0.9787\n",
      "Epoch 3 Batch 1200 Loss 1.0194\n",
      "Epoch 3 Loss 1.0395\n",
      "Time taken for 1 epoch 4183.7861704826355 sec\n",
      "\n",
      "Epoch 4 Batch 0 Loss 0.7799\n",
      "Epoch 4 Batch 100 Loss 0.8491\n",
      "Epoch 4 Batch 200 Loss 0.8347\n",
      "Epoch 4 Batch 300 Loss 0.8848\n",
      "Epoch 4 Batch 400 Loss 1.0600\n",
      "Epoch 4 Batch 500 Loss 0.9332\n",
      "Epoch 4 Batch 600 Loss 0.8356\n",
      "Epoch 4 Batch 700 Loss 1.0439\n",
      "Epoch 4 Batch 800 Loss 0.8279\n",
      "Epoch 4 Batch 900 Loss 0.9100\n",
      "Epoch 4 Batch 1000 Loss 0.9122\n",
      "Epoch 4 Batch 1100 Loss 0.7520\n",
      "Epoch 4 Batch 1200 Loss 0.8020\n",
      "Epoch 4 Loss 0.8819\n",
      "Time taken for 1 epoch 4424.197720527649 sec\n",
      "\n",
      "Epoch 5 Batch 0 Loss 0.7413\n",
      "Epoch 5 Batch 100 Loss 0.6228\n",
      "Epoch 5 Batch 200 Loss 0.7896\n",
      "Epoch 5 Batch 300 Loss 0.8331\n",
      "Epoch 5 Batch 400 Loss 0.7169\n",
      "Epoch 5 Batch 500 Loss 0.7569\n",
      "Epoch 5 Batch 600 Loss 0.6971\n",
      "Epoch 5 Batch 700 Loss 0.6630\n",
      "Epoch 5 Batch 800 Loss 0.8895\n",
      "Epoch 5 Batch 900 Loss 0.9095\n",
      "Epoch 5 Batch 1000 Loss 0.7900\n",
      "Epoch 5 Batch 1100 Loss 0.5835\n",
      "Epoch 5 Batch 1200 Loss 0.7140\n",
      "Epoch 5 Loss 0.7502\n",
      "Time taken for 1 epoch 4490.798162698746 sec\n",
      "\n",
      "Epoch 6 Batch 0 Loss 0.5979\n",
      "Epoch 6 Batch 100 Loss 0.5584\n",
      "Epoch 6 Batch 200 Loss 0.5719\n",
      "Epoch 6 Batch 300 Loss 0.5721\n",
      "Epoch 6 Batch 400 Loss 0.6567\n",
      "Epoch 6 Batch 500 Loss 0.6017\n",
      "Epoch 6 Batch 600 Loss 0.6776\n",
      "Epoch 6 Batch 700 Loss 0.6278\n",
      "Epoch 6 Batch 800 Loss 0.7968\n",
      "Epoch 6 Batch 900 Loss 0.6505\n",
      "Epoch 6 Batch 1000 Loss 0.6817\n",
      "Epoch 6 Batch 1100 Loss 0.6913\n",
      "Epoch 6 Batch 1200 Loss 0.5838\n",
      "Epoch 6 Loss 0.6319\n",
      "Time taken for 1 epoch 4601.851526260376 sec\n",
      "\n",
      "Epoch 7 Batch 0 Loss 0.4653\n",
      "Epoch 7 Batch 100 Loss 0.4597\n",
      "Epoch 7 Batch 200 Loss 0.4508\n",
      "Epoch 7 Batch 300 Loss 0.4456\n",
      "Epoch 7 Batch 400 Loss 0.5499\n",
      "Epoch 7 Batch 500 Loss 0.5375\n",
      "Epoch 7 Batch 600 Loss 0.4869\n",
      "Epoch 7 Batch 700 Loss 0.5742\n",
      "Epoch 7 Batch 800 Loss 0.5515\n",
      "Epoch 7 Batch 900 Loss 0.6230\n",
      "Epoch 7 Batch 1000 Loss 0.5473\n",
      "Epoch 7 Batch 1100 Loss 0.5577\n",
      "Epoch 7 Batch 1200 Loss 0.6219\n",
      "Epoch 7 Loss 0.5268\n",
      "Time taken for 1 epoch 4237.991766214371 sec\n",
      "\n",
      "Epoch 8 Batch 0 Loss 0.4216\n",
      "Epoch 8 Batch 100 Loss 0.4162\n",
      "Epoch 8 Batch 200 Loss 0.4278\n",
      "Epoch 8 Batch 300 Loss 0.4707\n",
      "Epoch 8 Batch 400 Loss 0.4222\n",
      "Epoch 8 Batch 500 Loss 0.4107\n",
      "Epoch 8 Batch 600 Loss 0.4786\n",
      "Epoch 8 Batch 700 Loss 0.4030\n",
      "Epoch 8 Batch 800 Loss 0.4781\n",
      "Epoch 8 Batch 900 Loss 0.4960\n",
      "Epoch 8 Batch 1000 Loss 0.4096\n",
      "Epoch 8 Batch 1100 Loss 0.4416\n",
      "Epoch 8 Batch 1200 Loss 0.4617\n",
      "Epoch 8 Loss 0.4351\n",
      "Time taken for 1 epoch 4208.704157114029 sec\n",
      "\n",
      "Epoch 9 Batch 0 Loss 0.3158\n",
      "Epoch 9 Batch 100 Loss 0.3307\n",
      "Epoch 9 Batch 200 Loss 0.3410\n",
      "Epoch 9 Batch 300 Loss 0.3526\n",
      "Epoch 9 Batch 400 Loss 0.2655\n",
      "Epoch 9 Batch 500 Loss 0.3343\n",
      "Epoch 9 Batch 600 Loss 0.3324\n",
      "Epoch 9 Batch 700 Loss 0.3789\n",
      "Epoch 9 Batch 800 Loss 0.4095\n",
      "Epoch 9 Batch 900 Loss 0.3227\n",
      "Epoch 9 Batch 1000 Loss 0.3811\n",
      "Epoch 9 Batch 1100 Loss 0.3617\n",
      "Epoch 9 Batch 1200 Loss 0.4733\n",
      "Epoch 9 Loss 0.3580\n",
      "Time taken for 1 epoch 4246.672966957092 sec\n",
      "\n",
      "Epoch 10 Batch 0 Loss 0.2862\n",
      "Epoch 10 Batch 100 Loss 0.2564\n",
      "Epoch 10 Batch 200 Loss 0.2729\n",
      "Epoch 10 Batch 300 Loss 0.2603\n",
      "Epoch 10 Batch 400 Loss 0.3087\n",
      "Epoch 10 Batch 500 Loss 0.2369\n",
      "Epoch 10 Batch 600 Loss 0.3075\n",
      "Epoch 10 Batch 700 Loss 0.3210\n",
      "Epoch 10 Batch 800 Loss 0.3516\n",
      "Epoch 10 Batch 900 Loss 0.3046\n",
      "Epoch 10 Batch 1000 Loss 0.2832\n",
      "Epoch 10 Batch 1100 Loss 0.2713\n",
      "Epoch 10 Batch 1200 Loss 0.3476\n",
      "Epoch 10 Loss 0.2938\n",
      "Time taken for 1 epoch 4313.283221721649 sec\n",
      "\n"
     ]
    }
   ],
   "source": [
    "EPOCHS = 10\n",
    "\n",
    "for epoch in range(EPOCHS):\n",
    "  start = time.time()\n",
    "\n",
    "  enc_hidden = encoder.initialize_hidden_state()\n",
    "  total_loss = 0\n",
    "\n",
    "  for (batch, (inp, targ)) in enumerate(dataset.take(steps_per_epoch)):\n",
    "    batch_loss = train_step(inp, targ, enc_hidden)\n",
    "    total_loss += batch_loss\n",
    "\n",
    "    if batch % 100 == 0:\n",
    "      print('Epoch {} Batch {} Loss {:.4f}'.format(epoch + 1,\n",
    "                                                   batch,\n",
    "                                                   batch_loss.numpy()))\n",
    "  # saving (checkpoint) the model every 2 epochs\n",
    "  if (epoch + 1) % 2 == 0:\n",
    "    checkpoint.save(file_prefix = checkpoint_prefix)\n",
    "\n",
    "  print('Epoch {} Loss {:.4f}'.format(epoch + 1,\n",
    "                                      total_loss / steps_per_epoch))\n",
    "  print('Time taken for 1 epoch {} sec\\n'.format(time.time() - start))"
   ]
  },
  {
   "cell_type": "markdown",
   "metadata": {
    "id": "mU3Ce8M6I3rz"
   },
   "source": [
    "## Translate\n",
    "\n",
    "* The evaluate function is similar to the training loop, except we don't use *teacher forcing* here. The input to the decoder at each time step is its previous predictions along with the hidden state and the encoder output.\n",
    "* Stop predicting when the model predicts the *end token*.\n",
    "* And store the *attention weights for every time step*.\n",
    "\n",
    "Note: The encoder output is calculated only once for one input."
   ]
  },
  {
   "cell_type": "code",
   "execution_count": 36,
   "metadata": {
    "id": "EbQpyYs13jF_"
   },
   "outputs": [],
   "source": [
    "def evaluate(sentence):\n",
    "  attention_plot = np.zeros((max_length_targ, max_length_inp))\n",
    "\n",
    "  sentence = preprocess_sentence(sentence)\n",
    "\n",
    "  inputs = [inp_lang.word_index[i] for i in sentence.split(' ')]\n",
    "  inputs = tf.keras.preprocessing.sequence.pad_sequences([inputs],\n",
    "                                                         maxlen=max_length_inp,\n",
    "                                                         padding='post')\n",
    "  inputs = tf.convert_to_tensor(inputs)\n",
    "\n",
    "  result = ''\n",
    "\n",
    "  hidden = [tf.zeros((1, units))]\n",
    "  enc_out, enc_hidden = encoder(inputs, hidden)\n",
    "\n",
    "  dec_hidden = enc_hidden\n",
    "  dec_input = tf.expand_dims([targ_lang.word_index['<start>']], 0)\n",
    "\n",
    "  for t in range(max_length_targ):\n",
    "    predictions, dec_hidden, attention_weights = decoder(dec_input,\n",
    "                                                         dec_hidden,\n",
    "                                                         enc_out)\n",
    "\n",
    "    # storing the attention weights to plot later on\n",
    "    attention_weights = tf.reshape(attention_weights, (-1, ))\n",
    "    attention_plot[t] = attention_weights.numpy()\n",
    "\n",
    "    predicted_id = tf.argmax(predictions[0]).numpy()\n",
    "\n",
    "    result += targ_lang.index_word[predicted_id] + ' '\n",
    "\n",
    "    if targ_lang.index_word[predicted_id] == '<end>':\n",
    "      return result, sentence, attention_plot\n",
    "\n",
    "    # the predicted ID is fed back into the model\n",
    "    dec_input = tf.expand_dims([predicted_id], 0)\n",
    "\n",
    "  return result, sentence, attention_plot"
   ]
  },
  {
   "cell_type": "code",
   "execution_count": 37,
   "metadata": {
    "id": "s5hQWlbN3jGF"
   },
   "outputs": [],
   "source": [
    "# function for plotting the attention weights\n",
    "def plot_attention(attention, sentence, predicted_sentence):\n",
    "  fig = plt.figure(figsize=(10,10))\n",
    "  ax = fig.add_subplot(1, 1, 1)\n",
    "  ax.matshow(attention, cmap='viridis')\n",
    "\n",
    "  fontdict = {'fontsize': 14}\n",
    "\n",
    "  ax.set_xticklabels([''] + sentence, fontdict=fontdict, rotation=90)\n",
    "  ax.set_yticklabels([''] + predicted_sentence, fontdict=fontdict)\n",
    "\n",
    "  ax.xaxis.set_major_locator(ticker.MultipleLocator(1))\n",
    "  ax.yaxis.set_major_locator(ticker.MultipleLocator(1))\n",
    "\n",
    "  plt.show()"
   ]
  },
  {
   "cell_type": "code",
   "execution_count": 38,
   "metadata": {
    "id": "sl9zUHzg3jGI"
   },
   "outputs": [],
   "source": [
    "def translate(sentence):\n",
    "  result, sentence, attention_plot = evaluate(sentence)\n",
    "\n",
    "  print('Input: %s' % (sentence))\n",
    "  print('Predicted translation: {}'.format(result))\n",
    "\n",
    "  attention_plot = attention_plot[:len(result.split(' ')), :len(sentence.split(' '))]\n",
    "  plot_attention(attention_plot, sentence.split(' '), result.split(' '))"
   ]
  },
  {
   "cell_type": "markdown",
   "metadata": {
    "id": "n250XbnjOaqP"
   },
   "source": [
    "## Restore the latest checkpoint and test"
   ]
  },
  {
   "cell_type": "code",
   "execution_count": 39,
   "metadata": {
    "colab": {
     "base_uri": "https://localhost:8080/"
    },
    "id": "UJpT9D5_OgP6",
    "outputId": "963ecfcd-c712-4c51-a21d-ec55266e9f5f"
   },
   "outputs": [
    {
     "data": {
      "text/plain": [
       "<tensorflow.python.training.tracking.util.CheckpointLoadStatus at 0x7fa22be75f90>"
      ]
     },
     "execution_count": 39,
     "metadata": {},
     "output_type": "execute_result"
    }
   ],
   "source": [
    "# restoring the latest checkpoint in checkpoint_dir\n",
    "checkpoint.restore(tf.train.latest_checkpoint(checkpoint_dir))"
   ]
  },
  {
   "cell_type": "code",
   "execution_count": 40,
   "metadata": {
    "colab": {
     "base_uri": "https://localhost:8080/",
     "height": 1000
    },
    "id": "WrAM0FDomq3E",
    "outputId": "259075ab-1524-4dee-fefa-295f0b3ad1f0",
    "scrolled": false
   },
   "outputs": [
    {
     "name": "stdout",
     "output_type": "stream",
     "text": [
      "Input: <start> it is hard to save time <end>\n",
      "Predicted translation: 그것은 시간을 절약 하는 것은 어렵습니다 . <end> \n"
     ]
    },
    {
     "name": "stderr",
     "output_type": "stream",
     "text": [
      "/usr/local/lib/python3.7/dist-packages/matplotlib/backends/backend_agg.py:214: RuntimeWarning: Glyph 44536 missing from current font.\n",
      "  font.set_text(s, 0.0, flags=flags)\n",
      "/usr/local/lib/python3.7/dist-packages/matplotlib/backends/backend_agg.py:214: RuntimeWarning: Glyph 44163 missing from current font.\n",
      "  font.set_text(s, 0.0, flags=flags)\n",
      "/usr/local/lib/python3.7/dist-packages/matplotlib/backends/backend_agg.py:214: RuntimeWarning: Glyph 51008 missing from current font.\n",
      "  font.set_text(s, 0.0, flags=flags)\n",
      "/usr/local/lib/python3.7/dist-packages/matplotlib/backends/backend_agg.py:214: RuntimeWarning: Glyph 49884 missing from current font.\n",
      "  font.set_text(s, 0.0, flags=flags)\n",
      "/usr/local/lib/python3.7/dist-packages/matplotlib/backends/backend_agg.py:214: RuntimeWarning: Glyph 44036 missing from current font.\n",
      "  font.set_text(s, 0.0, flags=flags)\n",
      "/usr/local/lib/python3.7/dist-packages/matplotlib/backends/backend_agg.py:214: RuntimeWarning: Glyph 51012 missing from current font.\n",
      "  font.set_text(s, 0.0, flags=flags)\n",
      "/usr/local/lib/python3.7/dist-packages/matplotlib/backends/backend_agg.py:214: RuntimeWarning: Glyph 51208 missing from current font.\n",
      "  font.set_text(s, 0.0, flags=flags)\n",
      "/usr/local/lib/python3.7/dist-packages/matplotlib/backends/backend_agg.py:214: RuntimeWarning: Glyph 50557 missing from current font.\n",
      "  font.set_text(s, 0.0, flags=flags)\n",
      "/usr/local/lib/python3.7/dist-packages/matplotlib/backends/backend_agg.py:214: RuntimeWarning: Glyph 54616 missing from current font.\n",
      "  font.set_text(s, 0.0, flags=flags)\n",
      "/usr/local/lib/python3.7/dist-packages/matplotlib/backends/backend_agg.py:214: RuntimeWarning: Glyph 45716 missing from current font.\n",
      "  font.set_text(s, 0.0, flags=flags)\n",
      "/usr/local/lib/python3.7/dist-packages/matplotlib/backends/backend_agg.py:214: RuntimeWarning: Glyph 50612 missing from current font.\n",
      "  font.set_text(s, 0.0, flags=flags)\n",
      "/usr/local/lib/python3.7/dist-packages/matplotlib/backends/backend_agg.py:214: RuntimeWarning: Glyph 47157 missing from current font.\n",
      "  font.set_text(s, 0.0, flags=flags)\n",
      "/usr/local/lib/python3.7/dist-packages/matplotlib/backends/backend_agg.py:214: RuntimeWarning: Glyph 49845 missing from current font.\n",
      "  font.set_text(s, 0.0, flags=flags)\n",
      "/usr/local/lib/python3.7/dist-packages/matplotlib/backends/backend_agg.py:214: RuntimeWarning: Glyph 45768 missing from current font.\n",
      "  font.set_text(s, 0.0, flags=flags)\n",
      "/usr/local/lib/python3.7/dist-packages/matplotlib/backends/backend_agg.py:214: RuntimeWarning: Glyph 45796 missing from current font.\n",
      "  font.set_text(s, 0.0, flags=flags)\n",
      "/usr/local/lib/python3.7/dist-packages/matplotlib/backends/backend_agg.py:183: RuntimeWarning: Glyph 44536 missing from current font.\n",
      "  font.set_text(s, 0, flags=flags)\n",
      "/usr/local/lib/python3.7/dist-packages/matplotlib/backends/backend_agg.py:183: RuntimeWarning: Glyph 44163 missing from current font.\n",
      "  font.set_text(s, 0, flags=flags)\n",
      "/usr/local/lib/python3.7/dist-packages/matplotlib/backends/backend_agg.py:183: RuntimeWarning: Glyph 51008 missing from current font.\n",
      "  font.set_text(s, 0, flags=flags)\n",
      "/usr/local/lib/python3.7/dist-packages/matplotlib/backends/backend_agg.py:183: RuntimeWarning: Glyph 49884 missing from current font.\n",
      "  font.set_text(s, 0, flags=flags)\n",
      "/usr/local/lib/python3.7/dist-packages/matplotlib/backends/backend_agg.py:183: RuntimeWarning: Glyph 44036 missing from current font.\n",
      "  font.set_text(s, 0, flags=flags)\n",
      "/usr/local/lib/python3.7/dist-packages/matplotlib/backends/backend_agg.py:183: RuntimeWarning: Glyph 51012 missing from current font.\n",
      "  font.set_text(s, 0, flags=flags)\n",
      "/usr/local/lib/python3.7/dist-packages/matplotlib/backends/backend_agg.py:183: RuntimeWarning: Glyph 51208 missing from current font.\n",
      "  font.set_text(s, 0, flags=flags)\n",
      "/usr/local/lib/python3.7/dist-packages/matplotlib/backends/backend_agg.py:183: RuntimeWarning: Glyph 50557 missing from current font.\n",
      "  font.set_text(s, 0, flags=flags)\n",
      "/usr/local/lib/python3.7/dist-packages/matplotlib/backends/backend_agg.py:183: RuntimeWarning: Glyph 54616 missing from current font.\n",
      "  font.set_text(s, 0, flags=flags)\n",
      "/usr/local/lib/python3.7/dist-packages/matplotlib/backends/backend_agg.py:183: RuntimeWarning: Glyph 45716 missing from current font.\n",
      "  font.set_text(s, 0, flags=flags)\n",
      "/usr/local/lib/python3.7/dist-packages/matplotlib/backends/backend_agg.py:183: RuntimeWarning: Glyph 50612 missing from current font.\n",
      "  font.set_text(s, 0, flags=flags)\n",
      "/usr/local/lib/python3.7/dist-packages/matplotlib/backends/backend_agg.py:183: RuntimeWarning: Glyph 47157 missing from current font.\n",
      "  font.set_text(s, 0, flags=flags)\n",
      "/usr/local/lib/python3.7/dist-packages/matplotlib/backends/backend_agg.py:183: RuntimeWarning: Glyph 49845 missing from current font.\n",
      "  font.set_text(s, 0, flags=flags)\n",
      "/usr/local/lib/python3.7/dist-packages/matplotlib/backends/backend_agg.py:183: RuntimeWarning: Glyph 45768 missing from current font.\n",
      "  font.set_text(s, 0, flags=flags)\n",
      "/usr/local/lib/python3.7/dist-packages/matplotlib/backends/backend_agg.py:183: RuntimeWarning: Glyph 45796 missing from current font.\n",
      "  font.set_text(s, 0, flags=flags)\n"
     ]
    },
    {
     "data": {
      "image/png": "[encoded data removed]",
      "text/plain": [
       "<Figure size 720x720 with 1 Axes>"
      ]
     },
     "metadata": {
      "needs_background": "light"
     },
     "output_type": "display_data"
    }
   ],
   "source": [
    "translate('it is hard to save time')"
   ]
  },
  {
   "cell_type": "code",
   "execution_count": 41,
   "metadata": {
    "colab": {
     "base_uri": "https://localhost:8080/",
     "height": 1000
    },
    "id": "zSx2iM36EZQZ",
    "outputId": "5f8f2d41-0878-4e0c-ab0f-760f7dcab421",
    "scrolled": false
   },
   "outputs": [
    {
     "name": "stdout",
     "output_type": "stream",
     "text": [
      "Input: <start> you are pretty small <end>\n",
      "Predicted translation: 당신은 꽤 엄청나게 작습니다 . <end> \n"
     ]
    },
    {
     "name": "stderr",
     "output_type": "stream",
     "text": [
      "/usr/local/lib/python3.7/dist-packages/matplotlib/backends/backend_agg.py:214: RuntimeWarning: Glyph 45817 missing from current font.\n",
      "  font.set_text(s, 0.0, flags=flags)\n",
      "/usr/local/lib/python3.7/dist-packages/matplotlib/backends/backend_agg.py:214: RuntimeWarning: Glyph 49888 missing from current font.\n",
      "  font.set_text(s, 0.0, flags=flags)\n",
      "/usr/local/lib/python3.7/dist-packages/matplotlib/backends/backend_agg.py:214: RuntimeWarning: Glyph 51008 missing from current font.\n",
      "  font.set_text(s, 0.0, flags=flags)\n",
      "/usr/local/lib/python3.7/dist-packages/matplotlib/backends/backend_agg.py:214: RuntimeWarning: Glyph 44900 missing from current font.\n",
      "  font.set_text(s, 0.0, flags=flags)\n",
      "/usr/local/lib/python3.7/dist-packages/matplotlib/backends/backend_agg.py:214: RuntimeWarning: Glyph 50628 missing from current font.\n",
      "  font.set_text(s, 0.0, flags=flags)\n",
      "/usr/local/lib/python3.7/dist-packages/matplotlib/backends/backend_agg.py:214: RuntimeWarning: Glyph 52397 missing from current font.\n",
      "  font.set_text(s, 0.0, flags=flags)\n",
      "/usr/local/lib/python3.7/dist-packages/matplotlib/backends/backend_agg.py:214: RuntimeWarning: Glyph 45208 missing from current font.\n",
      "  font.set_text(s, 0.0, flags=flags)\n",
      "/usr/local/lib/python3.7/dist-packages/matplotlib/backends/backend_agg.py:214: RuntimeWarning: Glyph 44172 missing from current font.\n",
      "  font.set_text(s, 0.0, flags=flags)\n",
      "/usr/local/lib/python3.7/dist-packages/matplotlib/backends/backend_agg.py:214: RuntimeWarning: Glyph 51089 missing from current font.\n",
      "  font.set_text(s, 0.0, flags=flags)\n",
      "/usr/local/lib/python3.7/dist-packages/matplotlib/backends/backend_agg.py:214: RuntimeWarning: Glyph 49845 missing from current font.\n",
      "  font.set_text(s, 0.0, flags=flags)\n",
      "/usr/local/lib/python3.7/dist-packages/matplotlib/backends/backend_agg.py:214: RuntimeWarning: Glyph 45768 missing from current font.\n",
      "  font.set_text(s, 0.0, flags=flags)\n",
      "/usr/local/lib/python3.7/dist-packages/matplotlib/backends/backend_agg.py:214: RuntimeWarning: Glyph 45796 missing from current font.\n",
      "  font.set_text(s, 0.0, flags=flags)\n",
      "/usr/local/lib/python3.7/dist-packages/matplotlib/backends/backend_agg.py:183: RuntimeWarning: Glyph 45817 missing from current font.\n",
      "  font.set_text(s, 0, flags=flags)\n",
      "/usr/local/lib/python3.7/dist-packages/matplotlib/backends/backend_agg.py:183: RuntimeWarning: Glyph 49888 missing from current font.\n",
      "  font.set_text(s, 0, flags=flags)\n",
      "/usr/local/lib/python3.7/dist-packages/matplotlib/backends/backend_agg.py:183: RuntimeWarning: Glyph 51008 missing from current font.\n",
      "  font.set_text(s, 0, flags=flags)\n",
      "/usr/local/lib/python3.7/dist-packages/matplotlib/backends/backend_agg.py:183: RuntimeWarning: Glyph 44900 missing from current font.\n",
      "  font.set_text(s, 0, flags=flags)\n",
      "/usr/local/lib/python3.7/dist-packages/matplotlib/backends/backend_agg.py:183: RuntimeWarning: Glyph 50628 missing from current font.\n",
      "  font.set_text(s, 0, flags=flags)\n",
      "/usr/local/lib/python3.7/dist-packages/matplotlib/backends/backend_agg.py:183: RuntimeWarning: Glyph 52397 missing from current font.\n",
      "  font.set_text(s, 0, flags=flags)\n",
      "/usr/local/lib/python3.7/dist-packages/matplotlib/backends/backend_agg.py:183: RuntimeWarning: Glyph 45208 missing from current font.\n",
      "  font.set_text(s, 0, flags=flags)\n",
      "/usr/local/lib/python3.7/dist-packages/matplotlib/backends/backend_agg.py:183: RuntimeWarning: Glyph 44172 missing from current font.\n",
      "  font.set_text(s, 0, flags=flags)\n",
      "/usr/local/lib/python3.7/dist-packages/matplotlib/backends/backend_agg.py:183: RuntimeWarning: Glyph 51089 missing from current font.\n",
      "  font.set_text(s, 0, flags=flags)\n",
      "/usr/local/lib/python3.7/dist-packages/matplotlib/backends/backend_agg.py:183: RuntimeWarning: Glyph 49845 missing from current font.\n",
      "  font.set_text(s, 0, flags=flags)\n",
      "/usr/local/lib/python3.7/dist-packages/matplotlib/backends/backend_agg.py:183: RuntimeWarning: Glyph 45768 missing from current font.\n",
      "  font.set_text(s, 0, flags=flags)\n",
      "/usr/local/lib/python3.7/dist-packages/matplotlib/backends/backend_agg.py:183: RuntimeWarning: Glyph 45796 missing from current font.\n",
      "  font.set_text(s, 0, flags=flags)\n"
     ]
    },
    {
     "data": {
      "image/png": "[encoded data removed]",
      "text/plain": [
       "<Figure size 720x720 with 1 Axes>"
      ]
     },
     "metadata": {
      "needs_background": "light"
     },
     "output_type": "display_data"
    }
   ],
   "source": [
    "translate('you are pretty small')"
   ]
  },
  {
   "cell_type": "code",
   "execution_count": 42,
   "metadata": {
    "colab": {
     "base_uri": "https://localhost:8080/",
     "height": 1000
    },
    "id": "A3LLCx3ZE0Ls",
    "outputId": "e3395ef1-b52b-494b-90ea-264e69b6c073"
   },
   "outputs": [
    {
     "name": "stdout",
     "output_type": "stream",
     "text": [
      "Input: <start> why does he have long hair ? <end>\n",
      "Predicted translation: 그는 왜 는 왜 이렇게 멀 나요 ? <end> \n"
     ]
    },
    {
     "name": "stderr",
     "output_type": "stream",
     "text": [
      "/usr/local/lib/python3.7/dist-packages/matplotlib/backends/backend_agg.py:214: RuntimeWarning: Glyph 44536 missing from current font.\n",
      "  font.set_text(s, 0.0, flags=flags)\n",
      "/usr/local/lib/python3.7/dist-packages/matplotlib/backends/backend_agg.py:214: RuntimeWarning: Glyph 45716 missing from current font.\n",
      "  font.set_text(s, 0.0, flags=flags)\n",
      "/usr/local/lib/python3.7/dist-packages/matplotlib/backends/backend_agg.py:214: RuntimeWarning: Glyph 50780 missing from current font.\n",
      "  font.set_text(s, 0.0, flags=flags)\n",
      "/usr/local/lib/python3.7/dist-packages/matplotlib/backends/backend_agg.py:214: RuntimeWarning: Glyph 51060 missing from current font.\n",
      "  font.set_text(s, 0.0, flags=flags)\n",
      "/usr/local/lib/python3.7/dist-packages/matplotlib/backends/backend_agg.py:214: RuntimeWarning: Glyph 47111 missing from current font.\n",
      "  font.set_text(s, 0.0, flags=flags)\n",
      "/usr/local/lib/python3.7/dist-packages/matplotlib/backends/backend_agg.py:214: RuntimeWarning: Glyph 44172 missing from current font.\n",
      "  font.set_text(s, 0.0, flags=flags)\n",
      "/usr/local/lib/python3.7/dist-packages/matplotlib/backends/backend_agg.py:214: RuntimeWarning: Glyph 47680 missing from current font.\n",
      "  font.set_text(s, 0.0, flags=flags)\n",
      "/usr/local/lib/python3.7/dist-packages/matplotlib/backends/backend_agg.py:214: RuntimeWarning: Glyph 45208 missing from current font.\n",
      "  font.set_text(s, 0.0, flags=flags)\n",
      "/usr/local/lib/python3.7/dist-packages/matplotlib/backends/backend_agg.py:214: RuntimeWarning: Glyph 50836 missing from current font.\n",
      "  font.set_text(s, 0.0, flags=flags)\n",
      "/usr/local/lib/python3.7/dist-packages/matplotlib/backends/backend_agg.py:183: RuntimeWarning: Glyph 44536 missing from current font.\n",
      "  font.set_text(s, 0, flags=flags)\n",
      "/usr/local/lib/python3.7/dist-packages/matplotlib/backends/backend_agg.py:183: RuntimeWarning: Glyph 45716 missing from current font.\n",
      "  font.set_text(s, 0, flags=flags)\n",
      "/usr/local/lib/python3.7/dist-packages/matplotlib/backends/backend_agg.py:183: RuntimeWarning: Glyph 50780 missing from current font.\n",
      "  font.set_text(s, 0, flags=flags)\n",
      "/usr/local/lib/python3.7/dist-packages/matplotlib/backends/backend_agg.py:183: RuntimeWarning: Glyph 51060 missing from current font.\n",
      "  font.set_text(s, 0, flags=flags)\n",
      "/usr/local/lib/python3.7/dist-packages/matplotlib/backends/backend_agg.py:183: RuntimeWarning: Glyph 47111 missing from current font.\n",
      "  font.set_text(s, 0, flags=flags)\n",
      "/usr/local/lib/python3.7/dist-packages/matplotlib/backends/backend_agg.py:183: RuntimeWarning: Glyph 44172 missing from current font.\n",
      "  font.set_text(s, 0, flags=flags)\n",
      "/usr/local/lib/python3.7/dist-packages/matplotlib/backends/backend_agg.py:183: RuntimeWarning: Glyph 47680 missing from current font.\n",
      "  font.set_text(s, 0, flags=flags)\n",
      "/usr/local/lib/python3.7/dist-packages/matplotlib/backends/backend_agg.py:183: RuntimeWarning: Glyph 45208 missing from current font.\n",
      "  font.set_text(s, 0, flags=flags)\n",
      "/usr/local/lib/python3.7/dist-packages/matplotlib/backends/backend_agg.py:183: RuntimeWarning: Glyph 50836 missing from current font.\n",
      "  font.set_text(s, 0, flags=flags)\n"
     ]
    },
    {
     "data": {
      "image/png": "[encoded data removed]",
      "text/plain": [
       "<Figure size 720x720 with 1 Axes>"
      ]
     },
     "metadata": {
      "needs_background": "light"
     },
     "output_type": "display_data"
    }
   ],
   "source": [
    "translate('why does he have long hair?')"
   ]
  },
  {
   "cell_type": "code",
   "execution_count": 43,
   "metadata": {
    "colab": {
     "base_uri": "https://localhost:8080/",
     "height": 1000
    },
    "id": "DUQVLVqUE1YW",
    "outputId": "c55de086-da1a-4bdc-fe6c-3498fc952d49"
   },
   "outputs": [
    {
     "name": "stdout",
     "output_type": "stream",
     "text": [
      "Input: <start> when do we take dinner ? <end>\n",
      "Predicted translation: 너는 언제 사 니 ? <end> \n"
     ]
    },
    {
     "name": "stderr",
     "output_type": "stream",
     "text": [
      "/usr/local/lib/python3.7/dist-packages/matplotlib/backends/backend_agg.py:214: RuntimeWarning: Glyph 45320 missing from current font.\n",
      "  font.set_text(s, 0.0, flags=flags)\n",
      "/usr/local/lib/python3.7/dist-packages/matplotlib/backends/backend_agg.py:214: RuntimeWarning: Glyph 45716 missing from current font.\n",
      "  font.set_text(s, 0.0, flags=flags)\n",
      "/usr/local/lib/python3.7/dist-packages/matplotlib/backends/backend_agg.py:214: RuntimeWarning: Glyph 50616 missing from current font.\n",
      "  font.set_text(s, 0.0, flags=flags)\n",
      "/usr/local/lib/python3.7/dist-packages/matplotlib/backends/backend_agg.py:214: RuntimeWarning: Glyph 51228 missing from current font.\n",
      "  font.set_text(s, 0.0, flags=flags)\n",
      "/usr/local/lib/python3.7/dist-packages/matplotlib/backends/backend_agg.py:214: RuntimeWarning: Glyph 49324 missing from current font.\n",
      "  font.set_text(s, 0.0, flags=flags)\n",
      "/usr/local/lib/python3.7/dist-packages/matplotlib/backends/backend_agg.py:214: RuntimeWarning: Glyph 45768 missing from current font.\n",
      "  font.set_text(s, 0.0, flags=flags)\n",
      "/usr/local/lib/python3.7/dist-packages/matplotlib/backends/backend_agg.py:183: RuntimeWarning: Glyph 45320 missing from current font.\n",
      "  font.set_text(s, 0, flags=flags)\n",
      "/usr/local/lib/python3.7/dist-packages/matplotlib/backends/backend_agg.py:183: RuntimeWarning: Glyph 45716 missing from current font.\n",
      "  font.set_text(s, 0, flags=flags)\n",
      "/usr/local/lib/python3.7/dist-packages/matplotlib/backends/backend_agg.py:183: RuntimeWarning: Glyph 50616 missing from current font.\n",
      "  font.set_text(s, 0, flags=flags)\n",
      "/usr/local/lib/python3.7/dist-packages/matplotlib/backends/backend_agg.py:183: RuntimeWarning: Glyph 51228 missing from current font.\n",
      "  font.set_text(s, 0, flags=flags)\n",
      "/usr/local/lib/python3.7/dist-packages/matplotlib/backends/backend_agg.py:183: RuntimeWarning: Glyph 49324 missing from current font.\n",
      "  font.set_text(s, 0, flags=flags)\n",
      "/usr/local/lib/python3.7/dist-packages/matplotlib/backends/backend_agg.py:183: RuntimeWarning: Glyph 45768 missing from current font.\n",
      "  font.set_text(s, 0, flags=flags)\n"
     ]
    },
    {
     "data": {
      "image/png": "[encoded data removed]",
      "text/plain": [
       "<Figure size 720x720 with 1 Axes>"
      ]
     },
     "metadata": {
      "needs_background": "light"
     },
     "output_type": "display_data"
    }
   ],
   "source": [
    "# wrong translation\n",
    "translate('when do we take dinner?')"
   ]
  },
  {
   "cell_type": "markdown",
   "metadata": {
    "id": "RTe5P5ioMJwN"
   },
   "source": [
    "## Next steps\n",
    "\n",
    "* [Download a different dataset](http://www.manythings.org/anki/) to experiment with translations, for example, English to German, or English to French.\n",
    "* Experiment with training on a larger dataset, or using more epochs\n"
   ]
  }
 ],
 "metadata": {
  "accelerator": "TPU",
  "colab": {
   "background_execution": "on",
   "collapsed_sections": [],
   "machine_shape": "hm",
   "name": "kor_eng.ipynb",
   "provenance": []
  },
  "kernelspec": {
   "display_name": "Python 3 (ipykernel)",
   "language": "python",
   "name": "python3"
  },
  "language_info": {
   "codemirror_mode": {
    "name": "ipython",
    "version": 3
   },
   "file_extension": ".py",
   "mimetype": "text/x-python",
   "name": "python",
   "nbconvert_exporter": "python",
   "pygments_lexer": "ipython3",
   "version": "3.8.11"
  }
 },
 "nbformat": 4,
 "nbformat_minor": 1
}
